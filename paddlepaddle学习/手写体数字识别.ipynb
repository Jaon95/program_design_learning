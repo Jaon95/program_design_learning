{
 "cells": [
  {
   "cell_type": "code",
   "execution_count": 1,
   "metadata": {},
   "outputs": [
    {
     "name": "stderr",
     "output_type": "stream",
     "text": [
      "d:\\python高级程序设计\\.venv\\lib\\site-packages\\matplotlib_inline\\config.py:66: DeprecationWarning: InlineBackend._figure_formats_changed is deprecated in traitlets 4.1: use @observe and @unobserve instead.\n",
      "  def _figure_formats_changed(self, name, old, new):\n"
     ]
    }
   ],
   "source": [
    "#加载飞桨和相关类库\n",
    "import paddle\n",
    "from paddle.nn import Linear\n",
    "import paddle.nn.functional as F\n",
    "import os\n",
    "import numpy as np\n",
    "import matplotlib.pyplot as plt"
   ]
  },
  {
   "cell_type": "code",
   "execution_count": 2,
   "metadata": {},
   "outputs": [
    {
     "data": {
      "text/plain": [
       "60000"
      ]
     },
     "execution_count": 2,
     "metadata": {},
     "output_type": "execute_result"
    }
   ],
   "source": [
    "# 设置数据格式\n",
    "paddle.vision.set_image_backend('cv2')\n",
    "train_dataset = paddle.vision.MNIST(mode='train')\n",
    "\n",
    "len(train_dataset)"
   ]
  },
  {
   "cell_type": "code",
   "execution_count": 12,
   "metadata": {},
   "outputs": [
    {
     "name": "stdout",
     "output_type": "stream",
     "text": [
      "[5]\n"
     ]
    },
    {
     "data": {
      "image/png": "[encoded data removed]",
      "text/plain": [
       "<Figure size 432x288 with 1 Axes>"
      ]
     },
     "metadata": {
      "needs_background": "light"
     },
     "output_type": "display_data"
    }
   ],
   "source": [
    "plt.imshow(train_dataset[0][0],cmap='binary')\n",
    "plt.axis('off')\n",
    "print(train_dataset[0][1])"
   ]
  },
  {
   "cell_type": "code",
   "execution_count": 4,
   "metadata": {},
   "outputs": [],
   "source": [
    "# 模型设计，定义假设空间\n",
    "class  MINIST(paddle.nn.Layer):\n",
    "    def __init__(self) -> None:\n",
    "        super(MINIST,self).__init__()\n",
    "\n",
    "        self.fc = paddle.nn.Linear(in_features=784,out_features=1)\n",
    "    \n",
    "    def forward(self,inputs):\n",
    "        predict  =  self.fc(inputs)\n",
    "        return predict"
   ]
  },
  {
   "cell_type": "code",
   "execution_count": 5,
   "metadata": {},
   "outputs": [],
   "source": [
    "# 数据归一化处理\n",
    "def norm_img(img):\n",
    "    assert len(img.shape) == 3\n",
    "\n",
    "    img = img/225\n",
    "\n",
    "    img  = paddle.reshape(img,[-1,784])\n",
    "\n",
    "    return img"
   ]
  },
  {
   "cell_type": "code",
   "execution_count": 6,
   "metadata": {},
   "outputs": [],
   "source": [
    "data_loader = paddle.io.DataLoader(\n",
    "    train_dataset,#数据源\n",
    "    batch_size = 16,# 每次训练的样本大小\n",
    "    shuffle = True #样本顺序打乱\n",
    ")"
   ]
  },
  {
   "cell_type": "code",
   "execution_count": null,
   "metadata": {},
   "outputs": [],
   "source": []
  },
  {
   "cell_type": "code",
   "execution_count": 7,
   "metadata": {},
   "outputs": [],
   "source": [
    "#定义训练过程\n",
    "model = MINIST()\n",
    "\n",
    "iter_num = 0\n",
    "all_iter = []\n",
    "all_loss = []\n",
    "def train(model):\n",
    "    model.train()\n",
    "\n",
    "    #定义优化器\n",
    "    opt = paddle.optimizer.SGD(learning_rate=0.001,parameters=model.parameters())\n",
    "\n",
    "    # 定义输入\n",
    "    data_loader = paddle.io.DataLoader(\n",
    "        train_dataset,#数据源\n",
    "        batch_size = 16,# 每次训练的样本大小\n",
    "        shuffle = True #样本顺序打乱\n",
    "    )\n",
    "\n",
    "    epoch_num = 10\n",
    "    for i in range(epoch_num):\n",
    "        for batch_id,data in enumerate(data_loader):\n",
    "            img = norm_img(data[0]).astype('float32')\n",
    "            label  = data[1].astype('float32')\n",
    "            global iter_num\n",
    "            all_iter.append(iter_num)\n",
    "            iter_num += 1\n",
    "\n",
    "            predict = model.forward(img)\n",
    "\n",
    "            loss = F.square_error_cost(predict,label=label)\n",
    "            avg_loss = paddle.mean(loss)\n",
    "            all_loss.append(avg_loss.numpy()[0])\n",
    "\n",
    "            # 反向计算\n",
    "            avg_loss.backward()\n",
    "            opt.step()\n",
    "            opt.clear_grad()\n",
    "\n",
    "            if batch_id % 100 ==0:\n",
    "                print('epoch is {}, batch_id is {} ,loss is {}, '.format(i,batch_id,avg_loss.numpy()))\n",
    "    "
   ]
  },
  {
   "cell_type": "code",
   "execution_count": 8,
   "metadata": {},
   "outputs": [
    {
     "name": "stdout",
     "output_type": "stream",
     "text": [
      "epoch is 0, batch_id is 0 ,loss is [26.537415], \n",
      "epoch is 0, batch_id is 100 ,loss is [6.984982], \n",
      "epoch is 0, batch_id is 200 ,loss is [5.7257037], \n",
      "epoch is 0, batch_id is 300 ,loss is [3.4913542], \n",
      "epoch is 0, batch_id is 400 ,loss is [4.8942275], \n",
      "epoch is 0, batch_id is 500 ,loss is [4.67894], \n",
      "epoch is 0, batch_id is 600 ,loss is [4.384933], \n",
      "epoch is 0, batch_id is 700 ,loss is [5.5107174], \n",
      "epoch is 0, batch_id is 800 ,loss is [5.5378904], \n",
      "epoch is 0, batch_id is 900 ,loss is [4.455756], \n",
      "epoch is 0, batch_id is 1000 ,loss is [5.96354], \n",
      "epoch is 0, batch_id is 1100 ,loss is [5.0181923], \n",
      "epoch is 0, batch_id is 1200 ,loss is [3.397202], \n",
      "epoch is 0, batch_id is 1300 ,loss is [6.4146233], \n",
      "epoch is 0, batch_id is 1400 ,loss is [2.8140035], \n",
      "epoch is 0, batch_id is 1500 ,loss is [3.1082387], \n",
      "epoch is 0, batch_id is 1600 ,loss is [3.5628386], \n",
      "epoch is 0, batch_id is 1700 ,loss is [3.7949479], \n",
      "epoch is 0, batch_id is 1800 ,loss is [2.9563012], \n",
      "epoch is 0, batch_id is 1900 ,loss is [2.892633], \n",
      "epoch is 0, batch_id is 2000 ,loss is [5.8793216], \n",
      "epoch is 0, batch_id is 2100 ,loss is [4.8834085], \n",
      "epoch is 0, batch_id is 2200 ,loss is [5.630287], \n",
      "epoch is 0, batch_id is 2300 ,loss is [3.2832818], \n",
      "epoch is 0, batch_id is 2400 ,loss is [2.926161], \n",
      "epoch is 0, batch_id is 2500 ,loss is [2.8375764], \n",
      "epoch is 0, batch_id is 2600 ,loss is [3.5630233], \n",
      "epoch is 0, batch_id is 2700 ,loss is [3.250645], \n",
      "epoch is 0, batch_id is 2800 ,loss is [5.219345], \n",
      "epoch is 0, batch_id is 2900 ,loss is [2.738081], \n",
      "epoch is 0, batch_id is 3000 ,loss is [4.0585136], \n",
      "epoch is 0, batch_id is 3100 ,loss is [3.8537877], \n",
      "epoch is 0, batch_id is 3200 ,loss is [2.9350643], \n",
      "epoch is 0, batch_id is 3300 ,loss is [2.353844], \n",
      "epoch is 0, batch_id is 3400 ,loss is [2.6270852], \n",
      "epoch is 0, batch_id is 3500 ,loss is [2.3050961], \n",
      "epoch is 0, batch_id is 3600 ,loss is [3.5106606], \n",
      "epoch is 0, batch_id is 3700 ,loss is [1.5121953], \n",
      "epoch is 1, batch_id is 0 ,loss is [3.731565], \n",
      "epoch is 1, batch_id is 100 ,loss is [3.5880694], \n",
      "epoch is 1, batch_id is 200 ,loss is [3.6040554], \n",
      "epoch is 1, batch_id is 300 ,loss is [5.261092], \n",
      "epoch is 1, batch_id is 400 ,loss is [3.048171], \n",
      "epoch is 1, batch_id is 500 ,loss is [1.6571769], \n",
      "epoch is 1, batch_id is 600 ,loss is [5.65794], \n",
      "epoch is 1, batch_id is 700 ,loss is [1.7742263], \n",
      "epoch is 1, batch_id is 800 ,loss is [4.690388], \n",
      "epoch is 1, batch_id is 900 ,loss is [4.1407857], \n",
      "epoch is 1, batch_id is 1000 ,loss is [2.359252], \n",
      "epoch is 1, batch_id is 1100 ,loss is [4.507365], \n",
      "epoch is 1, batch_id is 1200 ,loss is [4.1912513], \n",
      "epoch is 1, batch_id is 1300 ,loss is [3.8482878], \n",
      "epoch is 1, batch_id is 1400 ,loss is [3.1643252], \n",
      "epoch is 1, batch_id is 1500 ,loss is [2.6970296], \n",
      "epoch is 1, batch_id is 1600 ,loss is [1.5796528], \n",
      "epoch is 1, batch_id is 1700 ,loss is [3.1650825], \n",
      "epoch is 1, batch_id is 1800 ,loss is [1.0999379], \n",
      "epoch is 1, batch_id is 1900 ,loss is [3.9266877], \n",
      "epoch is 1, batch_id is 2000 ,loss is [4.9399652], \n",
      "epoch is 1, batch_id is 2100 ,loss is [3.4248776], \n",
      "epoch is 1, batch_id is 2200 ,loss is [1.882585], \n",
      "epoch is 1, batch_id is 2300 ,loss is [2.9699483], \n",
      "epoch is 1, batch_id is 2400 ,loss is [3.8414462], \n",
      "epoch is 1, batch_id is 2500 ,loss is [4.5919743], \n",
      "epoch is 1, batch_id is 2600 ,loss is [3.3570862], \n",
      "epoch is 1, batch_id is 2700 ,loss is [3.705191], \n",
      "epoch is 1, batch_id is 2800 ,loss is [3.3412976], \n",
      "epoch is 1, batch_id is 2900 ,loss is [3.7220504], \n",
      "epoch is 1, batch_id is 3000 ,loss is [5.6183906], \n",
      "epoch is 1, batch_id is 3100 ,loss is [4.2054353], \n",
      "epoch is 1, batch_id is 3200 ,loss is [1.5233154], \n",
      "epoch is 1, batch_id is 3300 ,loss is [3.9339843], \n",
      "epoch is 1, batch_id is 3400 ,loss is [4.613002], \n",
      "epoch is 1, batch_id is 3500 ,loss is [1.5404855], \n",
      "epoch is 1, batch_id is 3600 ,loss is [3.5709248], \n",
      "epoch is 1, batch_id is 3700 ,loss is [5.8030834], \n",
      "epoch is 2, batch_id is 0 ,loss is [2.082138], \n",
      "epoch is 2, batch_id is 100 ,loss is [5.72276], \n",
      "epoch is 2, batch_id is 200 ,loss is [2.221511], \n",
      "epoch is 2, batch_id is 300 ,loss is [1.768929], \n",
      "epoch is 2, batch_id is 400 ,loss is [2.4625852], \n",
      "epoch is 2, batch_id is 500 ,loss is [3.61936], \n",
      "epoch is 2, batch_id is 600 ,loss is [2.5637412], \n",
      "epoch is 2, batch_id is 700 ,loss is [5.048194], \n",
      "epoch is 2, batch_id is 800 ,loss is [3.324332], \n",
      "epoch is 2, batch_id is 900 ,loss is [3.36099], \n",
      "epoch is 2, batch_id is 1000 ,loss is [2.115676], \n",
      "epoch is 2, batch_id is 1100 ,loss is [5.796451], \n",
      "epoch is 2, batch_id is 1200 ,loss is [5.098098], \n",
      "epoch is 2, batch_id is 1300 ,loss is [5.6742687], \n",
      "epoch is 2, batch_id is 1400 ,loss is [4.9399643], \n",
      "epoch is 2, batch_id is 1500 ,loss is [4.270769], \n",
      "epoch is 2, batch_id is 1600 ,loss is [4.0700965], \n",
      "epoch is 2, batch_id is 1700 ,loss is [3.601319], \n",
      "epoch is 2, batch_id is 1800 ,loss is [2.156683], \n",
      "epoch is 2, batch_id is 1900 ,loss is [2.5166736], \n",
      "epoch is 2, batch_id is 2000 ,loss is [2.1342642], \n",
      "epoch is 2, batch_id is 2100 ,loss is [2.3056822], \n",
      "epoch is 2, batch_id is 2200 ,loss is [3.7593794], \n",
      "epoch is 2, batch_id is 2300 ,loss is [2.5130076], \n",
      "epoch is 2, batch_id is 2400 ,loss is [4.48489], \n",
      "epoch is 2, batch_id is 2500 ,loss is [3.9804668], \n",
      "epoch is 2, batch_id is 2600 ,loss is [2.2515714], \n",
      "epoch is 2, batch_id is 2700 ,loss is [2.057023], \n",
      "epoch is 2, batch_id is 2800 ,loss is [2.287293], \n",
      "epoch is 2, batch_id is 2900 ,loss is [7.732767], \n",
      "epoch is 2, batch_id is 3000 ,loss is [1.6675305], \n",
      "epoch is 2, batch_id is 3100 ,loss is [6.0398693], \n",
      "epoch is 2, batch_id is 3200 ,loss is [1.9298995], \n",
      "epoch is 2, batch_id is 3300 ,loss is [3.4504027], \n",
      "epoch is 2, batch_id is 3400 ,loss is [4.503867], \n",
      "epoch is 2, batch_id is 3500 ,loss is [3.3719273], \n",
      "epoch is 2, batch_id is 3600 ,loss is [4.654932], \n",
      "epoch is 2, batch_id is 3700 ,loss is [3.0756538], \n",
      "epoch is 3, batch_id is 0 ,loss is [3.6521034], \n",
      "epoch is 3, batch_id is 100 ,loss is [5.861274], \n",
      "epoch is 3, batch_id is 200 ,loss is [8.513412], \n",
      "epoch is 3, batch_id is 300 ,loss is [2.5116882], \n",
      "epoch is 3, batch_id is 400 ,loss is [2.3812003], \n",
      "epoch is 3, batch_id is 500 ,loss is [3.5204735], \n",
      "epoch is 3, batch_id is 600 ,loss is [4.316677], \n",
      "epoch is 3, batch_id is 700 ,loss is [5.742832], \n",
      "epoch is 3, batch_id is 800 ,loss is [3.8118215], \n",
      "epoch is 3, batch_id is 900 ,loss is [4.0523663], \n",
      "epoch is 3, batch_id is 1000 ,loss is [4.927253], \n",
      "epoch is 3, batch_id is 1100 ,loss is [3.8878832], \n",
      "epoch is 3, batch_id is 1200 ,loss is [6.193057], \n",
      "epoch is 3, batch_id is 1300 ,loss is [1.9469376], \n",
      "epoch is 3, batch_id is 1400 ,loss is [2.5367157], \n",
      "epoch is 3, batch_id is 1500 ,loss is [1.7194222], \n",
      "epoch is 3, batch_id is 1600 ,loss is [3.962415], \n",
      "epoch is 3, batch_id is 1700 ,loss is [2.8727922], \n",
      "epoch is 3, batch_id is 1800 ,loss is [3.0115614], \n",
      "epoch is 3, batch_id is 1900 ,loss is [2.8574421], \n",
      "epoch is 3, batch_id is 2000 ,loss is [3.2553184], \n",
      "epoch is 3, batch_id is 2100 ,loss is [2.6928725], \n",
      "epoch is 3, batch_id is 2200 ,loss is [4.211127], \n",
      "epoch is 3, batch_id is 2300 ,loss is [2.6416767], \n",
      "epoch is 3, batch_id is 2400 ,loss is [2.4496393], \n",
      "epoch is 3, batch_id is 2500 ,loss is [2.3764472], \n",
      "epoch is 3, batch_id is 2600 ,loss is [6.7825027], \n",
      "epoch is 3, batch_id is 2700 ,loss is [2.2465127], \n",
      "epoch is 3, batch_id is 2800 ,loss is [2.447264], \n",
      "epoch is 3, batch_id is 2900 ,loss is [3.1131172], \n",
      "epoch is 3, batch_id is 3000 ,loss is [1.6017753], \n",
      "epoch is 3, batch_id is 3100 ,loss is [4.765335], \n",
      "epoch is 3, batch_id is 3200 ,loss is [6.225534], \n",
      "epoch is 3, batch_id is 3300 ,loss is [3.7568665], \n",
      "epoch is 3, batch_id is 3400 ,loss is [2.1691656], \n",
      "epoch is 3, batch_id is 3500 ,loss is [2.9495554], \n",
      "epoch is 3, batch_id is 3600 ,loss is [4.0025306], \n",
      "epoch is 3, batch_id is 3700 ,loss is [2.0408583], \n",
      "epoch is 4, batch_id is 0 ,loss is [2.3322074], \n",
      "epoch is 4, batch_id is 100 ,loss is [2.1394913], \n",
      "epoch is 4, batch_id is 200 ,loss is [1.6521133], \n",
      "epoch is 4, batch_id is 300 ,loss is [3.699305], \n",
      "epoch is 4, batch_id is 400 ,loss is [2.9704423], \n",
      "epoch is 4, batch_id is 500 ,loss is [2.4400036], \n",
      "epoch is 4, batch_id is 600 ,loss is [1.6085842], \n",
      "epoch is 4, batch_id is 700 ,loss is [4.179664], \n",
      "epoch is 4, batch_id is 800 ,loss is [4.1011004], \n",
      "epoch is 4, batch_id is 900 ,loss is [2.2873735], \n",
      "epoch is 4, batch_id is 1000 ,loss is [2.7210999], \n",
      "epoch is 4, batch_id is 1100 ,loss is [5.3735313], \n",
      "epoch is 4, batch_id is 1200 ,loss is [2.6636636], \n",
      "epoch is 4, batch_id is 1300 ,loss is [1.8807693], \n",
      "epoch is 4, batch_id is 1400 ,loss is [3.0255876], \n",
      "epoch is 4, batch_id is 1500 ,loss is [5.042387], \n",
      "epoch is 4, batch_id is 1600 ,loss is [2.9891005], \n",
      "epoch is 4, batch_id is 1700 ,loss is [2.817202], \n",
      "epoch is 4, batch_id is 1800 ,loss is [4.482291], \n",
      "epoch is 4, batch_id is 1900 ,loss is [2.7528389], \n",
      "epoch is 4, batch_id is 2000 ,loss is [5.2743597], \n",
      "epoch is 4, batch_id is 2100 ,loss is [2.3434665], \n",
      "epoch is 4, batch_id is 2200 ,loss is [1.2660455], \n",
      "epoch is 4, batch_id is 2300 ,loss is [2.4597719], \n",
      "epoch is 4, batch_id is 2400 ,loss is [2.9292128], \n",
      "epoch is 4, batch_id is 2500 ,loss is [7.7635674], \n",
      "epoch is 4, batch_id is 2600 ,loss is [4.5580034], \n",
      "epoch is 4, batch_id is 2700 ,loss is [5.027151], \n",
      "epoch is 4, batch_id is 2800 ,loss is [3.6436071], \n",
      "epoch is 4, batch_id is 2900 ,loss is [3.568018], \n",
      "epoch is 4, batch_id is 3000 ,loss is [2.2992969], \n",
      "epoch is 4, batch_id is 3100 ,loss is [0.9722894], \n",
      "epoch is 4, batch_id is 3200 ,loss is [2.5717824], \n",
      "epoch is 4, batch_id is 3300 ,loss is [3.3657274], \n",
      "epoch is 4, batch_id is 3400 ,loss is [3.713109], \n",
      "epoch is 4, batch_id is 3500 ,loss is [1.7426927], \n",
      "epoch is 4, batch_id is 3600 ,loss is [3.5160162], \n",
      "epoch is 4, batch_id is 3700 ,loss is [1.656096], \n",
      "epoch is 5, batch_id is 0 ,loss is [5.61282], \n",
      "epoch is 5, batch_id is 100 ,loss is [3.2321749], \n",
      "epoch is 5, batch_id is 200 ,loss is [1.94397], \n",
      "epoch is 5, batch_id is 300 ,loss is [2.917604], \n",
      "epoch is 5, batch_id is 400 ,loss is [5.923554], \n",
      "epoch is 5, batch_id is 500 ,loss is [4.376197], \n",
      "epoch is 5, batch_id is 600 ,loss is [2.5500755], \n",
      "epoch is 5, batch_id is 700 ,loss is [2.2298975], \n",
      "epoch is 5, batch_id is 800 ,loss is [3.6494563], \n",
      "epoch is 5, batch_id is 900 ,loss is [5.180133], \n",
      "epoch is 5, batch_id is 1000 ,loss is [3.2010183], \n",
      "epoch is 5, batch_id is 1100 ,loss is [2.5171347], \n",
      "epoch is 5, batch_id is 1200 ,loss is [2.1998236], \n",
      "epoch is 5, batch_id is 1300 ,loss is [2.3630157], \n",
      "epoch is 5, batch_id is 1400 ,loss is [0.680993], \n",
      "epoch is 5, batch_id is 1500 ,loss is [2.0416613], \n",
      "epoch is 5, batch_id is 1600 ,loss is [0.7326416], \n",
      "epoch is 5, batch_id is 1700 ,loss is [5.185123], \n",
      "epoch is 5, batch_id is 1800 ,loss is [3.3050535], \n",
      "epoch is 5, batch_id is 1900 ,loss is [3.8928213], \n",
      "epoch is 5, batch_id is 2000 ,loss is [3.6338725], \n",
      "epoch is 5, batch_id is 2100 ,loss is [3.9253259], \n",
      "epoch is 5, batch_id is 2200 ,loss is [4.2462544], \n",
      "epoch is 5, batch_id is 2300 ,loss is [2.896565], \n",
      "epoch is 5, batch_id is 2400 ,loss is [4.194168], \n",
      "epoch is 5, batch_id is 2500 ,loss is [3.693987], \n",
      "epoch is 5, batch_id is 2600 ,loss is [4.5067115], \n",
      "epoch is 5, batch_id is 2700 ,loss is [4.4394045], \n",
      "epoch is 5, batch_id is 2800 ,loss is [3.1615999], \n",
      "epoch is 5, batch_id is 2900 ,loss is [3.2028248], \n",
      "epoch is 5, batch_id is 3000 ,loss is [2.6607342], \n",
      "epoch is 5, batch_id is 3100 ,loss is [2.8979945], \n",
      "epoch is 5, batch_id is 3200 ,loss is [2.2368178], \n",
      "epoch is 5, batch_id is 3300 ,loss is [3.0909722], \n",
      "epoch is 5, batch_id is 3400 ,loss is [3.2598956], \n",
      "epoch is 5, batch_id is 3500 ,loss is [3.1931796], \n",
      "epoch is 5, batch_id is 3600 ,loss is [1.8223358], \n",
      "epoch is 5, batch_id is 3700 ,loss is [3.3711712], \n",
      "epoch is 6, batch_id is 0 ,loss is [3.04519], \n",
      "epoch is 6, batch_id is 100 ,loss is [2.3709364], \n",
      "epoch is 6, batch_id is 200 ,loss is [5.4618444], \n",
      "epoch is 6, batch_id is 300 ,loss is [2.2812877], \n",
      "epoch is 6, batch_id is 400 ,loss is [2.1517577], \n",
      "epoch is 6, batch_id is 500 ,loss is [3.8587403], \n",
      "epoch is 6, batch_id is 600 ,loss is [5.039449], \n",
      "epoch is 6, batch_id is 700 ,loss is [1.3753195], \n",
      "epoch is 6, batch_id is 800 ,loss is [2.4255104], \n",
      "epoch is 6, batch_id is 900 ,loss is [3.6659198], \n",
      "epoch is 6, batch_id is 1000 ,loss is [1.7992439], \n",
      "epoch is 6, batch_id is 1100 ,loss is [4.8303347], \n",
      "epoch is 6, batch_id is 1200 ,loss is [4.0054903], \n",
      "epoch is 6, batch_id is 1300 ,loss is [3.0130146], \n",
      "epoch is 6, batch_id is 1400 ,loss is [4.771919], \n",
      "epoch is 6, batch_id is 1500 ,loss is [4.8693705], \n",
      "epoch is 6, batch_id is 1600 ,loss is [2.4589987], \n",
      "epoch is 6, batch_id is 1700 ,loss is [3.2704244], \n",
      "epoch is 6, batch_id is 1800 ,loss is [4.931757], \n",
      "epoch is 6, batch_id is 1900 ,loss is [1.992146], \n",
      "epoch is 6, batch_id is 2000 ,loss is [6.5890484], \n",
      "epoch is 6, batch_id is 2100 ,loss is [2.741325], \n",
      "epoch is 6, batch_id is 2200 ,loss is [2.0982518], \n",
      "epoch is 6, batch_id is 2300 ,loss is [2.8842149], \n",
      "epoch is 6, batch_id is 2400 ,loss is [3.979404], \n",
      "epoch is 6, batch_id is 2500 ,loss is [3.0670717], \n",
      "epoch is 6, batch_id is 2600 ,loss is [4.4229918], \n",
      "epoch is 6, batch_id is 2700 ,loss is [2.1650653], \n",
      "epoch is 6, batch_id is 2800 ,loss is [2.8427653], \n",
      "epoch is 6, batch_id is 2900 ,loss is [3.085395], \n",
      "epoch is 6, batch_id is 3000 ,loss is [3.8843074], \n",
      "epoch is 6, batch_id is 3100 ,loss is [4.0450478], \n",
      "epoch is 6, batch_id is 3200 ,loss is [4.2667036], \n",
      "epoch is 6, batch_id is 3300 ,loss is [5.300022], \n",
      "epoch is 6, batch_id is 3400 ,loss is [5.296399], \n",
      "epoch is 6, batch_id is 3500 ,loss is [4.122405], \n",
      "epoch is 6, batch_id is 3600 ,loss is [4.027521], \n",
      "epoch is 6, batch_id is 3700 ,loss is [4.1977224], \n",
      "epoch is 7, batch_id is 0 ,loss is [2.0538242], \n",
      "epoch is 7, batch_id is 100 ,loss is [3.0923846], \n",
      "epoch is 7, batch_id is 200 ,loss is [5.997036], \n",
      "epoch is 7, batch_id is 300 ,loss is [3.733653], \n",
      "epoch is 7, batch_id is 400 ,loss is [2.3677585], \n",
      "epoch is 7, batch_id is 500 ,loss is [3.7825532], \n",
      "epoch is 7, batch_id is 600 ,loss is [3.0400038], \n",
      "epoch is 7, batch_id is 700 ,loss is [4.4763722], \n",
      "epoch is 7, batch_id is 800 ,loss is [2.8508942], \n",
      "epoch is 7, batch_id is 900 ,loss is [2.9311447], \n",
      "epoch is 7, batch_id is 1000 ,loss is [2.4708374], \n",
      "epoch is 7, batch_id is 1100 ,loss is [5.1355243], \n",
      "epoch is 7, batch_id is 1200 ,loss is [3.2301245], \n",
      "epoch is 7, batch_id is 1300 ,loss is [3.9498851], \n",
      "epoch is 7, batch_id is 1400 ,loss is [4.840835], \n",
      "epoch is 7, batch_id is 1500 ,loss is [3.1013951], \n",
      "epoch is 7, batch_id is 1600 ,loss is [2.3941667], \n",
      "epoch is 7, batch_id is 1700 ,loss is [9.006253], \n",
      "epoch is 7, batch_id is 1800 ,loss is [5.146124], \n",
      "epoch is 7, batch_id is 1900 ,loss is [3.4874308], \n",
      "epoch is 7, batch_id is 2000 ,loss is [3.7637062], \n",
      "epoch is 7, batch_id is 2100 ,loss is [3.3676035], \n",
      "epoch is 7, batch_id is 2200 ,loss is [3.286561], \n",
      "epoch is 7, batch_id is 2300 ,loss is [2.4119868], \n",
      "epoch is 7, batch_id is 2400 ,loss is [4.7697353], \n",
      "epoch is 7, batch_id is 2500 ,loss is [3.2362483], \n",
      "epoch is 7, batch_id is 2600 ,loss is [1.7195044], \n",
      "epoch is 7, batch_id is 2700 ,loss is [5.640731], \n",
      "epoch is 7, batch_id is 2800 ,loss is [6.4490285], \n",
      "epoch is 7, batch_id is 2900 ,loss is [3.5109413], \n",
      "epoch is 7, batch_id is 3000 ,loss is [2.1503358], \n",
      "epoch is 7, batch_id is 3100 ,loss is [1.9601904], \n",
      "epoch is 7, batch_id is 3200 ,loss is [3.7845812], \n",
      "epoch is 7, batch_id is 3300 ,loss is [3.1488562], \n",
      "epoch is 7, batch_id is 3400 ,loss is [4.5405827], \n",
      "epoch is 7, batch_id is 3500 ,loss is [1.8835578], \n",
      "epoch is 7, batch_id is 3600 ,loss is [2.2538664], \n",
      "epoch is 7, batch_id is 3700 ,loss is [3.187401], \n",
      "epoch is 8, batch_id is 0 ,loss is [5.8824744], \n",
      "epoch is 8, batch_id is 100 ,loss is [2.2572474], \n",
      "epoch is 8, batch_id is 200 ,loss is [3.4715066], \n",
      "epoch is 8, batch_id is 300 ,loss is [2.823606], \n",
      "epoch is 8, batch_id is 400 ,loss is [1.6888599], \n",
      "epoch is 8, batch_id is 500 ,loss is [1.6405742], \n",
      "epoch is 8, batch_id is 600 ,loss is [2.0083516], \n",
      "epoch is 8, batch_id is 700 ,loss is [2.9723096], \n",
      "epoch is 8, batch_id is 800 ,loss is [1.907327], \n",
      "epoch is 8, batch_id is 900 ,loss is [5.071393], \n",
      "epoch is 8, batch_id is 1000 ,loss is [3.615506], \n",
      "epoch is 8, batch_id is 1100 ,loss is [2.1219492], \n",
      "epoch is 8, batch_id is 1200 ,loss is [4.9843187], \n",
      "epoch is 8, batch_id is 1300 ,loss is [3.154946], \n",
      "epoch is 8, batch_id is 1400 ,loss is [3.410172], \n",
      "epoch is 8, batch_id is 1500 ,loss is [4.450378], \n",
      "epoch is 8, batch_id is 1600 ,loss is [1.8098316], \n",
      "epoch is 8, batch_id is 1700 ,loss is [1.6526346], \n",
      "epoch is 8, batch_id is 1800 ,loss is [2.4419408], \n",
      "epoch is 8, batch_id is 1900 ,loss is [2.6365275], \n",
      "epoch is 8, batch_id is 2000 ,loss is [1.6858662], \n",
      "epoch is 8, batch_id is 2100 ,loss is [2.6183088], \n",
      "epoch is 8, batch_id is 2200 ,loss is [2.446578], \n",
      "epoch is 8, batch_id is 2300 ,loss is [2.036039], \n",
      "epoch is 8, batch_id is 2400 ,loss is [2.0893989], \n",
      "epoch is 8, batch_id is 2500 ,loss is [2.725312], \n",
      "epoch is 8, batch_id is 2600 ,loss is [3.7268944], \n",
      "epoch is 8, batch_id is 2700 ,loss is [2.5389557], \n",
      "epoch is 8, batch_id is 2800 ,loss is [2.381949], \n",
      "epoch is 8, batch_id is 2900 ,loss is [3.1020823], \n",
      "epoch is 8, batch_id is 3000 ,loss is [3.3200607], \n",
      "epoch is 8, batch_id is 3100 ,loss is [3.21979], \n",
      "epoch is 8, batch_id is 3200 ,loss is [6.278081], \n",
      "epoch is 8, batch_id is 3300 ,loss is [4.6759076], \n",
      "epoch is 8, batch_id is 3400 ,loss is [5.0323925], \n",
      "epoch is 8, batch_id is 3500 ,loss is [1.6545613], \n",
      "epoch is 8, batch_id is 3600 ,loss is [2.8247285], \n",
      "epoch is 8, batch_id is 3700 ,loss is [3.4221303], \n",
      "epoch is 9, batch_id is 0 ,loss is [1.5151908], \n",
      "epoch is 9, batch_id is 100 ,loss is [3.6476493], \n",
      "epoch is 9, batch_id is 200 ,loss is [4.615419], \n",
      "epoch is 9, batch_id is 300 ,loss is [3.4976332], \n",
      "epoch is 9, batch_id is 400 ,loss is [5.0315027], \n",
      "epoch is 9, batch_id is 500 ,loss is [6.107003], \n",
      "epoch is 9, batch_id is 600 ,loss is [5.1699505], \n",
      "epoch is 9, batch_id is 700 ,loss is [3.2213864], \n",
      "epoch is 9, batch_id is 800 ,loss is [2.6466577], \n",
      "epoch is 9, batch_id is 900 ,loss is [4.600643], \n",
      "epoch is 9, batch_id is 1000 ,loss is [3.3291273], \n",
      "epoch is 9, batch_id is 1100 ,loss is [2.5114417], \n",
      "epoch is 9, batch_id is 1200 ,loss is [2.7106516], \n",
      "epoch is 9, batch_id is 1300 ,loss is [4.7832155], \n",
      "epoch is 9, batch_id is 1400 ,loss is [3.0988693], \n",
      "epoch is 9, batch_id is 1500 ,loss is [2.5208347], \n",
      "epoch is 9, batch_id is 1600 ,loss is [3.4394999], \n",
      "epoch is 9, batch_id is 1700 ,loss is [1.9772302], \n",
      "epoch is 9, batch_id is 1800 ,loss is [2.1410773], \n",
      "epoch is 9, batch_id is 1900 ,loss is [3.580797], \n",
      "epoch is 9, batch_id is 2000 ,loss is [2.8879578], \n",
      "epoch is 9, batch_id is 2100 ,loss is [4.596205], \n",
      "epoch is 9, batch_id is 2200 ,loss is [2.9628527], \n",
      "epoch is 9, batch_id is 2300 ,loss is [4.1944404], \n",
      "epoch is 9, batch_id is 2400 ,loss is [4.814313], \n",
      "epoch is 9, batch_id is 2500 ,loss is [2.7292287], \n",
      "epoch is 9, batch_id is 2600 ,loss is [4.710209], \n",
      "epoch is 9, batch_id is 2700 ,loss is [3.6662698], \n",
      "epoch is 9, batch_id is 2800 ,loss is [2.0399423], \n",
      "epoch is 9, batch_id is 2900 ,loss is [1.728847], \n",
      "epoch is 9, batch_id is 3000 ,loss is [3.4139683], \n",
      "epoch is 9, batch_id is 3100 ,loss is [2.6614325], \n",
      "epoch is 9, batch_id is 3200 ,loss is [2.7599354], \n",
      "epoch is 9, batch_id is 3300 ,loss is [2.7405238], \n",
      "epoch is 9, batch_id is 3400 ,loss is [2.6492105], \n",
      "epoch is 9, batch_id is 3500 ,loss is [1.5818497], \n",
      "epoch is 9, batch_id is 3600 ,loss is [3.8009534], \n",
      "epoch is 9, batch_id is 3700 ,loss is [3.6065357], \n"
     ]
    }
   ],
   "source": [
    "model = MINIST()\n",
    "train(model)\n"
   ]
  },
  {
   "cell_type": "code",
   "execution_count": 9,
   "metadata": {},
   "outputs": [
    {
     "data": {
      "text/plain": [
       "[<matplotlib.lines.Line2D at 0x1682d540df0>]"
      ]
     },
     "execution_count": 9,
     "metadata": {},
     "output_type": "execute_result"
    },
    {
     "data": {
      "image/png": "[encoded data removed]",
      "text/plain": [
       "<Figure size 432x288 with 1 Axes>"
      ]
     },
     "metadata": {
      "needs_background": "light"
     },
     "output_type": "display_data"
    }
   ],
   "source": [
    "plt.plot(all_iter,all_loss)"
   ]
  },
  {
   "cell_type": "code",
   "execution_count": 11,
   "metadata": {},
   "outputs": [],
   "source": [
    "model_file_path = './models/minist.pdparams'\n",
    "paddle.save(model.state_dict(),model_file_path)"
   ]
  },
  {
   "cell_type": "code",
   "execution_count": 13,
   "metadata": {},
   "outputs": [
    {
     "name": "stdout",
     "output_type": "stream",
     "text": [
      "<PIL.JpegImagePlugin.JpegImageFile image mode=L size=28x28 at 0x1683AAED3A0>\n"
     ]
    },
    {
     "data": {
      "text/plain": [
       "<matplotlib.image.AxesImage at 0x1682f791940>"
      ]
     },
     "execution_count": 13,
     "metadata": {},
     "output_type": "execute_result"
    },
    {
     "data": {
      "image/png": "[encoded data removed]",
      "text/plain": [
       "<Figure size 432x288 with 1 Axes>"
      ]
     },
     "metadata": {
      "needs_background": "light"
     },
     "output_type": "display_data"
    }
   ],
   "source": [
    "from PIL import Image\n",
    "\n",
    "im_path = './work/example_0.jpg'\n",
    "im = Image.open(im_path)\n",
    "print(im)\n",
    "plt.imshow(im,cmap='binary')"
   ]
  },
  {
   "cell_type": "code",
   "execution_count": 18,
   "metadata": {},
   "outputs": [],
   "source": [
    "# 定义转换函数\n",
    "def load_img(img_path):\n",
    "    im = Image.open(img_path)\n",
    "    im = im.resize((28,28),Image.ANTIALIAS)# 转换为 28*28的图片\n",
    "    plt.imshow(im,cmap='binary')\n",
    "    im = np.array(im).reshape(1,-1).astype('float32')\n",
    "\n",
    "    im = 1 - im/255 # 原来的数字部分是白色的，减去以后直接黑变白，白变黑\n",
    "    \n",
    "    return im"
   ]
  },
  {
   "cell_type": "code",
   "execution_count": 19,
   "metadata": {},
   "outputs": [
    {
     "name": "stdout",
     "output_type": "stream",
     "text": [
      "[[1]]\n"
     ]
    },
    {
     "data": {
      "image/png": "[encoded data removed]",
      "text/plain": [
       "<Figure size 432x288 with 1 Axes>"
      ]
     },
     "metadata": {
      "needs_background": "light"
     },
     "output_type": "display_data"
    }
   ],
   "source": [
    "model = MINIST()\n",
    "para_dict = paddle.load(model_file_path)\n",
    "model.load_dict(para_dict)\n",
    "\n",
    "model.eval()#启动预测模式\n",
    "tensor_img = load_img(img_path=im_path)\n",
    "result = model(paddle.to_tensor(tensor_img))\n",
    "print(result.numpy().astype(np.int32))"
   ]
  },
  {
   "cell_type": "code",
   "execution_count": 8,
   "metadata": {},
   "outputs": [
    {
     "name": "stdout",
     "output_type": "stream",
     "text": [
      "[[-1.2247438 -1.2247438 -1.2247438]\n",
      " [ 0.         0.         0.       ]\n",
      " [ 1.2247438  1.2247438  1.2247438]]\n",
      "std 4.0, mean 2.449489742783178, \n",
      " output [-1.22474487  0.          1.22474487]\n"
     ]
    }
   ],
   "source": [
    "import numpy as np\n",
    "import paddle\n",
    "from paddle.nn import BatchNorm1D\n",
    "\n",
    "data = np.array(\n",
    "    [[1,2,3],[4,5,6],[7,8,9]]\n",
    ").astype(np.float32)\n",
    "\n",
    "bn = BatchNorm1D(num_features=3)\n",
    "\n",
    "x = paddle.to_tensor(data)\n",
    "y = bn(x)\n",
    "\n",
    "print(y.numpy())\n",
    "\n",
    "a = np.array([1,4,7])\n",
    "a_mean = a.mean()\n",
    "a_std = a.std()\n",
    "b = (a - a_mean) / a_std\n",
    "print('std {}, mean {}, \\n output {}'.format(a_mean, a_std, b))"
   ]
  }
 ],
 "metadata": {
  "interpreter": {
   "hash": "73fe03891eabd6446a090ee4c22d8dcac73542d36d6aee5d53443fd4b857a5ca"
  },
  "kernelspec": {
   "display_name": "Python 3.9.6 64-bit ('.venv': venv)",
   "language": "python",
   "name": "python3"
  },
  "language_info": {
   "codemirror_mode": {
    "name": "ipython",
    "version": 3
   },
   "file_extension": ".py",
   "mimetype": "text/x-python",
   "name": "python",
   "nbconvert_exporter": "python",
   "pygments_lexer": "ipython3",
   "version": "3.9.6"
  },
  "orig_nbformat": 4
 },
 "nbformat": 4,
 "nbformat_minor": 2
}
