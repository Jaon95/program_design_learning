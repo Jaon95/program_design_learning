{
 "cells": [
  {
   "cell_type": "code",
   "execution_count": 1,
   "metadata": {},
   "outputs": [
    {
     "name": "stderr",
     "output_type": "stream",
     "text": [
      "d:\\python高级程序设计\\.venv\\lib\\site-packages\\matplotlib_inline\\config.py:66: DeprecationWarning: InlineBackend._figure_formats_changed is deprecated in traitlets 4.1: use @observe and @unobserve instead.\n",
      "  def _figure_formats_changed(self, name, old, new):\n"
     ]
    }
   ],
   "source": [
    "#加载飞桨和相关类库\n",
    "import paddle\n",
    "from paddle.nn import Linear\n",
    "import paddle.nn.functional as F\n",
    "import os\n",
    "import numpy as np\n",
    "import matplotlib.pyplot as plt"
   ]
  },
  {
   "cell_type": "code",
   "execution_count": 2,
   "metadata": {},
   "outputs": [
    {
     "data": {
      "text/plain": [
       "60000"
      ]
     },
     "execution_count": 2,
     "metadata": {},
     "output_type": "execute_result"
    }
   ],
   "source": [
    "# 设置数据格式\n",
    "paddle.vision.set_image_backend('cv2')\n",
    "train_dataset = paddle.vision.MNIST(mode='train')\n",
    "\n",
    "len(train_dataset)"
   ]
  },
  {
   "cell_type": "code",
   "execution_count": 12,
   "metadata": {},
   "outputs": [
    {
     "name": "stdout",
     "output_type": "stream",
     "text": [
      "[5]\n"
     ]
    },
    {
     "data": {
      "image/png": "[encoded data removed]",
      "text/plain": [
       "<Figure size 432x288 with 1 Axes>"
      ]
     },
     "metadata": {
      "needs_background": "light"
     },
     "output_type": "display_data"
    }
   ],
   "source": [
    "plt.imshow(train_dataset[0][0],cmap='binary')\n",
    "plt.axis('off')\n",
    "print(train_dataset[0][1])"
   ]
  },
  {
   "cell_type": "code",
   "execution_count": 4,
   "metadata": {},
   "outputs": [],
   "source": [
    "# 模型设计，定义假设空间\n",
    "class  MINIST(paddle.nn.Layer):\n",
    "    def __init__(self) -> None:\n",
    "        super(MINIST,self).__init__()\n",
    "\n",
    "        self.fc = paddle.nn.Linear(in_features=784,out_features=1)\n",
    "    \n",
    "    def forward(self,inputs):\n",
    "        predict  =  self.fc(inputs)\n",
    "        return predict"
   ]
  },
  {
   "cell_type": "code",
   "execution_count": 5,
   "metadata": {},
   "outputs": [],
   "source": [
    "# 数据归一化处理\n",
    "def norm_img(img):\n",
    "    assert len(img.shape) == 3\n",
    "\n",
    "    img = img/225\n",
    "\n",
    "    img  = paddle.reshape(img,[-1,784])\n",
    "\n",
    "    return img"
   ]
  },
  {
   "cell_type": "code",
   "execution_count": 6,
   "metadata": {},
   "outputs": [],
   "source": [
    "data_loader = paddle.io.DataLoader(\n",
    "    train_dataset,#数据源\n",
    "    batch_size = 16,# 每次训练的样本大小\n",
    "    shuffle = True #样本顺序打乱\n",
    ")"
   ]
  },
  {
   "cell_type": "code",
   "execution_count": null,
   "metadata": {},
   "outputs": [],
   "source": []
  },
  {
   "cell_type": "code",
   "execution_count": 7,
   "metadata": {},
   "outputs": [],
   "source": [
    "#定义训练过程\n",
    "model = MINIST()\n",
    "\n",
    "iter_num = 0\n",
    "all_iter = []\n",
    "all_loss = []\n",
    "def train(model):\n",
    "    model.train()\n",
    "\n",
    "    #定义优化器\n",
    "    opt = paddle.optimizer.SGD(learning_rate=0.001,parameters=model.parameters())\n",
    "\n",
    "    # 定义输入\n",
    "    data_loader = paddle.io.DataLoader(\n",
    "        train_dataset,#数据源\n",
    "        batch_size = 16,# 每次训练的样本大小\n",
    "        shuffle = True #样本顺序打乱\n",
    "    )\n",
    "\n",
    "    epoch_num = 10\n",
    "    for i in range(epoch_num):\n",
    "        for batch_id,data in enumerate(data_loader):\n",
    "            img = norm_img(data[0]).astype('float32')\n",
    "            label  = data[1].astype('float32')\n",
    "            global iter_num\n",
    "            all_iter.append(iter_num)\n",
    "            iter_num += 1\n",
    "\n",
    "            predict = model.forward(img)\n",
    "\n",
    "            loss = F.square_error_cost(predict,label=label)\n",
    "            avg_loss = paddle.mean(loss)\n",
    "            all_loss.append(avg_loss.numpy()[0])\n",
    "\n",
    "            # 反向计算\n",
    "            avg_loss.backward()\n",
    "            opt.step()\n",
    "            opt.clear_grad()\n",
    "\n",
    "            if batch_id % 100 ==0:\n",
    "                print('epoch is {}, batch_id is {} ,loss is {}, '.format(i,batch_id,avg_loss.numpy()))\n",
    "    "
   ]
  },
  {
   "cell_type": "code",
   "execution_count": 8,
   "metadata": {},
   "outputs": [
    {
     "name": "stdout",
     "output_type": "stream",
     "text": [
      "epoch is 0, batch_id is 0 ,loss is [26.537415], \n",
      "epoch is 0, batch_id is 100 ,loss is [6.984982], \n",
      "epoch is 0, batch_id is 200 ,loss is [5.7257037], \n",
      "epoch is 0, batch_id is 300 ,loss is [3.4913542], \n",
      "epoch is 0, batch_id is 400 ,loss is [4.8942275], \n",
      "epoch is 0, batch_id is 500 ,loss is [4.67894], \n",
      "epoch is 0, batch_id is 600 ,loss is [4.384933], \n",
      "epoch is 0, batch_id is 700 ,loss is [5.5107174], \n",
      "epoch is 0, batch_id is 800 ,loss is [5.5378904], \n",
      "epoch is 0, batch_id is 900 ,loss is [4.455756], \n",
      "epoch is 0, batch_id is 1000 ,loss is [5.96354], \n",
      "epoch is 0, batch_id is 1100 ,loss is [5.0181923], \n",
      "epoch is 0, batch_id is 1200 ,loss is [3.397202], \n",
      "epoch is 0, batch_id is 1300 ,loss is [6.4146233], \n",
      "epoch is 0, batch_id is 1400 ,loss is [2.8140035], \n",
      "epoch is 0, batch_id is 1500 ,loss is [3.1082387], \n",
      "epoch is 0, batch_id is 1600 ,loss is [3.5628386], \n",
      "epoch is 0, batch_id is 1700 ,loss is [3.7949479], \n",
      "epoch is 0, batch_id is 1800 ,loss is [2.9563012], \n",
      "epoch is 0, batch_id is 1900 ,loss is [2.892633], \n",
      "epoch is 0, batch_id is 2000 ,loss is [5.8793216], \n",
      "epoch is 0, batch_id is 2100 ,loss is [4.8834085], \n",
      "epoch is 0, batch_id is 2200 ,loss is [5.630287], \n",
      "epoch is 0, batch_id is 2300 ,loss is [3.2832818], \n",
      "epoch is 0, batch_id is 2400 ,loss is [2.926161], \n",
      "epoch is 0, batch_id is 2500 ,loss is [2.8375764], \n",
      "epoch is 0, batch_id is 2600 ,loss is [3.5630233], \n",
      "epoch is 0, batch_id is 2700 ,loss is [3.250645], \n",
      "epoch is 0, batch_id is 2800 ,loss is [5.219345], \n",
      "epoch is 0, batch_id is 2900 ,loss is [2.738081], \n",
      "epoch is 0, batch_id is 3000 ,loss is [4.0585136], \n",
      "epoch is 0, batch_id is 3100 ,loss is [3.8537877], \n",
      "epoch is 0, batch_id is 3200 ,loss is [2.9350643], \n",
      "epoch is 0, batch_id is 3300 ,loss is [2.353844], \n",
      "epoch is 0, batch_id is 3400 ,loss is [2.6270852], \n",
      "epoch is 0, batch_id is 3500 ,loss is [2.3050961], \n",
      "epoch is 0, batch_id is 3600 ,loss is [3.5106606], \n",
      "epoch is 0, batch_id is 3700 ,loss is [1.5121953], \n",
      "epoch is 1, batch_id is 0 ,loss is [3.731565], \n",
      "epoch is 1, batch_id is 100 ,loss is [3.5880694], \n",
      "epoch is 1, batch_id is 200 ,loss is [3.6040554], \n",
      "epoch is 1, batch_id is 300 ,loss is [5.261092], \n",
      "epoch is 1, batch_id is 400 ,loss is [3.048171], \n",
      "epoch is 1, batch_id is 500 ,loss is [1.6571769], \n",
      "epoch is 1, batch_id is 600 ,loss is [5.65794], \n",
      "epoch is 1, batch_id is 700 ,loss is [1.7742263], \n",
      "epoch is 1, batch_id is 800 ,loss is [4.690388], \n",
      "epoch is 1, batch_id is 900 ,loss is [4.1407857], \n",
      "epoch is 1, batch_id is 1000 ,loss is [2.359252], \n",
      "epoch is 1, batch_id is 1100 ,loss is [4.507365], \n",
      "epoch is 1, batch_id is 1200 ,loss is [4.1912513], \n",
      "epoch is 1, batch_id is 1300 ,loss is [3.8482878], \n",
      "epoch is 1, batch_id is 1400 ,loss is [3.1643252], \n",
      "epoch is 1, batch_id is 1500 ,loss is [2.6970296], \n",
      "epoch is 1, batch_id is 1600 ,loss is [1.5796528], \n",
      "epoch is 1, batch_id is 1700 ,loss is [3.1650825], \n",
      "epoch is 1, batch_id is 1800 ,loss is [1.0999379], \n",
      "epoch is 1, batch_id is 1900 ,loss is [3.9266877], \n",
      "epoch is 1, batch_id is 2000 ,loss is [4.9399652], \n",
      "epoch is 1, batch_id is 2100 ,loss is [3.4248776], \n",
      "epoch is 1, batch_id is 2200 ,loss is [1.882585], \n",
      "epoch is 1, batch_id is 2300 ,loss is [2.9699483], \n",
      "epoch is 1, batch_id is 2400 ,loss is [3.8414462], \n",
      "epoch is 1, batch_id is 2500 ,loss is [4.5919743], \n",
      "epoch is 1, batch_id is 2600 ,loss is [3.3570862], \n",
      "epoch is 1, batch_id is 2700 ,loss is [3.705191], \n",
      "epoch is 1, batch_id is 2800 ,loss is [3.3412976], \n",
      "epoch is 1, batch_id is 2900 ,loss is [3.7220504], \n",
      "epoch is 1, batch_id is 3000 ,loss is [5.6183906], \n",
      "epoch is 1, batch_id is 3100 ,loss is [4.2054353], \n",
      "epoch is 1, batch_id is 3200 ,loss is [1.5233154], \n",
      "epoch is 1, batch_id is 3300 ,loss is [3.9339843], \n",
      "epoch is 1, batch_id is 3400 ,loss is [4.613002], \n",
      "epoch is 1, batch_id is 3500 ,loss is [1.5404855], \n",
      "epoch is 1, batch_id is 3600 ,loss is [3.5709248], \n",
      "epoch is 1, batch_id is 3700 ,loss is [5.8030834], \n",
      "epoch is 2, batch_id is 0 ,loss is [2.082138], \n",
      "epoch is 2, batch_id is 100 ,loss is [5.72276], \n",
      "epoch is 2, batch_id is 200 ,loss is [2.221511], \n",
      "epoch is 2, batch_id is 300 ,loss is [1.768929], \n",
      "epoch is 2, batch_id is 400 ,loss is [2.4625852], \n",
      "epoch is 2, batch_id is 500 ,loss is [3.61936], \n",
      "epoch is 2, batch_id is 600 ,loss is [2.5637412], \n",
      "epoch is 2, batch_id is 700 ,loss is [5.048194], \n",
      "epoch is 2, batch_id is 800 ,loss is [3.324332], \n",
      "epoch is 2, batch_id is 900 ,loss is [3.36099], \n",
      "epoch is 2, batch_id is 1000 ,loss is [2.115676], \n",
      "epoch is 2, batch_id is 1100 ,loss is [5.796451], \n",
      "epoch is 2, batch_id is 1200 ,loss is [5.098098], \n",
      "epoch is 2, batch_id is 1300 ,loss is [5.6742687], \n",
      "epoch is 2, batch_id is 1400 ,loss is [4.9399643], \n",
      "epoch is 2, batch_id is 1500 ,loss is [4.270769], \n",
      "epoch is 2, batch_id is 1600 ,loss is [4.0700965], \n",
      "epoch is 2, batch_id is 1700 ,loss is [3.601319], \n",
      "epoch is 2, batch_id is 1800 ,loss is [2.156683], \n",
      "epoch is 2, batch_id is 1900 ,loss is [2.5166736], \n",
      "epoch is 2, batch_id is 2000 ,loss is [2.1342642], \n",
      "epoch is 2, batch_id is 2100 ,loss is [2.3056822], \n",
      "epoch is 2, batch_id is 2200 ,loss is [3.7593794], \n",
      "epoch is 2, batch_id is 2300 ,loss is [2.5130076], \n",
      "epoch is 2, batch_id is 2400 ,loss is [4.48489], \n",
      "epoch is 2, batch_id is 2500 ,loss is [3.9804668], \n",
      "epoch is 2, batch_id is 2600 ,loss is [2.2515714], \n",
      "epoch is 2, batch_id is 2700 ,loss is [2.057023], \n",
      "epoch is 2, batch_id is 2800 ,loss is [2.287293], \n",
      "epoch is 2, batch_id is 2900 ,loss is [7.732767], \n",
      "epoch is 2, batch_id is 3000 ,loss is [1.6675305], \n",
      "epoch is 2, batch_id is 3100 ,loss is [6.0398693], \n",
      "epoch is 2, batch_id is 3200 ,loss is [1.9298995], \n",
      "epoch is 2, batch_id is 3300 ,loss is [3.4504027], \n",
      "epoch is 2, batch_id is 3400 ,loss is [4.503867], \n",
      "epoch is 2, batch_id is 3500 ,loss is [3.3719273], \n",
      "epoch is 2, batch_id is 3600 ,loss is [4.654932], \n",
      "epoch is 2, batch_id is 3700 ,loss is [3.0756538], \n",
      "epoch is 3, batch_id is 0 ,loss is [3.6521034], \n",
      "epoch is 3, batch_id is 100 ,loss is [5.861274], \n",
      "epoch is 3, batch_id is 200 ,loss is [8.513412], \n",
      "epoch is 3, batch_id is 300 ,loss is [2.5116882], \n",
      "epoch is 3, batch_id is 400 ,loss is [2.3812003], \n",
      "epoch is 3, batch_id is 500 ,loss is [3.5204735], \n",
      "epoch is 3, batch_id is 600 ,loss is [4.316677], \n",
      "epoch is 3, batch_id is 700 ,loss is [5.742832], \n",
      "epoch is 3, batch_id is 800 ,loss is [3.8118215], \n",
      "epoch is 3, batch_id is 900 ,loss is [4.0523663], \n",
      "epoch is 3, batch_id is 1000 ,loss is [4.927253], \n",
      "epoch is 3, batch_id is 1100 ,loss is [3.8878832], \n",
      "epoch is 3, batch_id is 1200 ,loss is [6.193057], \n",
      "epoch is 3, batch_id is 1300 ,loss is [1.9469376], \n",
      "epoch is 3, batch_id is 1400 ,loss is [2.5367157], \n",
      "epoch is 3, batch_id is 1500 ,loss is [1.7194222], \n",
      "epoch is 3, batch_id is 1600 ,loss is [3.962415], \n",
      "epoch is 3, batch_id is 1700 ,loss is [2.8727922], \n",
      "epoch is 3, batch_id is 1800 ,loss is [3.0115614], \n",
      "epoch is 3, batch_id is 1900 ,loss is [2.8574421], \n",
      "epoch is 3, batch_id is 2000 ,loss is [3.2553184], \n",
      "epoch is 3, batch_id is 2100 ,loss is [2.6928725], \n",
      "epoch is 3, batch_id is 2200 ,loss is [4.211127], \n",
      "epoch is 3, batch_id is 2300 ,loss is [2.6416767], \n",
      "epoch is 3, batch_id is 2400 ,loss is [2.4496393], \n",
      "epoch is 3, batch_id is 2500 ,loss is [2.3764472], \n",
      "epoch is 3, batch_id is 2600 ,loss is [6.7825027], \n",
      "epoch is 3, batch_id is 2700 ,loss is [2.2465127], \n",
      "epoch is 3, batch_id is 2800 ,loss is [2.447264], \n",
      "epoch is 3, batch_id is 2900 ,loss is [3.1131172], \n",
      "epoch is 3, batch_id is 3000 ,loss is [1.6017753], \n",
      "epoch is 3, batch_id is 3100 ,loss is [4.765335], \n",
      "epoch is 3, batch_id is 3200 ,loss is [6.225534], \n",
      "epoch is 3, batch_id is 3300 ,loss is [3.7568665], \n",
      "epoch is 3, batch_id is 3400 ,loss is [2.1691656], \n",
      "epoch is 3, batch_id is 3500 ,loss is [2.9495554], \n",
      "epoch is 3, batch_id is 3600 ,loss is [4.0025306], \n",
      "epoch is 3, batch_id is 3700 ,loss is [2.0408583], \n",
      "epoch is 4, batch_id is 0 ,loss is [2.3322074], \n",
      "epoch is 4, batch_id is 100 ,loss is [2.1394913], \n",
      "epoch is 4, batch_id is 200 ,loss is [1.6521133], \n",
      "epoch is 4, batch_id is 300 ,loss is [3.699305], \n",
      "epoch is 4, batch_id is 400 ,loss is [2.9704423], \n",
      "epoch is 4, batch_id is 500 ,loss is [2.4400036], \n",
      "epoch is 4, batch_id is 600 ,loss is [1.6085842], \n",
      "epoch is 4, batch_id is 700 ,loss is [4.179664], \n",
      "epoch is 4, batch_id is 800 ,loss is [4.1011004], \n",
      "epoch is 4, batch_id is 900 ,loss is [2.2873735], \n",
      "epoch is 4, batch_id is 1000 ,loss is [2.7210999], \n",
      "epoch is 4, batch_id is 1100 ,loss is [5.3735313], \n",
      "epoch is 4, batch_id is 1200 ,loss is [2.6636636], \n",
      "epoch is 4, batch_id is 1300 ,loss is [1.8807693], \n",
      "epoch is 4, batch_id is 1400 ,loss is [3.0255876], \n",
      "epoch is 4, batch_id is 1500 ,loss is [5.042387], \n",
      "epoch is 4, batch_id is 1600 ,loss is [2.9891005], \n",
      "epoch is 4, batch_id is 1700 ,loss is [2.817202], \n",
      "epoch is 4, batch_id is 1800 ,loss is [4.482291], \n",
      "epoch is 4, batch_id is 1900 ,loss is [2.7528389], \n",
      "epoch is 4, batch_id is 2000 ,loss is [5.2743597], \n",
      "epoch is 4, batch_id is 2100 ,loss is [2.3434665], \n",
      "epoch is 4, batch_id is 2200 ,loss is [1.2660455], \n",
      "epoch is 4, batch_id is 2300 ,loss is [2.4597719], \n",
      "epoch is 4, batch_id is 2400 ,loss is [2.9292128], \n",
      "epoch is 4, batch_id is 2500 ,loss is [7.7635674], \n",
      "epoch is 4, batch_id is 2600 ,loss is [4.5580034], \n",
      "epoch is 4, batch_id is 2700 ,loss is [5.027151], \n",
      "epoch is 4, batch_id is 2800 ,loss is [3.6436071], \n",
      "epoch is 4, batch_id is 2900 ,loss is [3.568018], \n",
      "epoch is 4, batch_id is 3000 ,loss is [2.2992969], \n",
      "epoch is 4, batch_id is 3100 ,loss is [0.9722894], \n",
      "epoch is 4, batch_id is 3200 ,loss is [2.5717824], \n",
      "epoch is 4, batch_id is 3300 ,loss is [3.3657274], \n",
      "epoch is 4, batch_id is 3400 ,loss is [3.713109], \n",
      "epoch is 4, batch_id is 3500 ,loss is [1.7426927], \n",
      "epoch is 4, batch_id is 3600 ,loss is [3.5160162], \n",
      "epoch is 4, batch_id is 3700 ,loss is [1.656096], \n",
      "epoch is 5, batch_id is 0 ,loss is [5.61282], \n",
      "epoch is 5, batch_id is 100 ,loss is [3.2321749], \n",
      "epoch is 5, batch_id is 200 ,loss is [1.94397], \n",
      "epoch is 5, batch_id is 300 ,loss is [2.917604], \n",
      "epoch is 5, batch_id is 400 ,loss is [5.923554], \n",
      "epoch is 5, batch_id is 500 ,loss is [4.376197], \n",
      "epoch is 5, batch_id is 600 ,loss is [2.5500755], \n",
      "epoch is 5, batch_id is 700 ,loss is [2.2298975], \n",
      "epoch is 5, batch_id is 800 ,loss is [3.6494563], \n",
      "epoch is 5, batch_id is 900 ,loss is [5.180133], \n",
      "epoch is 5, batch_id is 1000 ,loss is [3.2010183], \n",
      "epoch is 5, batch_id is 1100 ,loss is [2.5171347], \n",
      "epoch is 5, batch_id is 1200 ,loss is [2.1998236], \n",
      "epoch is 5, batch_id is 1300 ,loss is [2.3630157], \n",
      "epoch is 5, batch_id is 1400 ,loss is [0.680993], \n",
      "epoch is 5, batch_id is 1500 ,loss is [2.0416613], \n",
      "epoch is 5, batch_id is 1600 ,loss is [0.7326416], \n",
      "epoch is 5, batch_id is 1700 ,loss is [5.185123], \n",
      "epoch is 5, batch_id is 1800 ,loss is [3.3050535], \n",
      "epoch is 5, batch_id is 1900 ,loss is [3.8928213], \n",
      "epoch is 5, batch_id is 2000 ,loss is [3.6338725], \n",
      "epoch is 5, batch_id is 2100 ,loss is [3.9253259], \n",
      "epoch is 5, batch_id is 2200 ,loss is [4.2462544], \n",
      "epoch is 5, batch_id is 2300 ,loss is [2.896565], \n",
      "epoch is 5, batch_id is 2400 ,loss is [4.194168], \n",
      "epoch is 5, batch_id is 2500 ,loss is [3.693987], \n",
      "epoch is 5, batch_id is 2600 ,loss is [4.5067115], \n",
      "epoch is 5, batch_id is 2700 ,loss is [4.4394045], \n",
      "epoch is 5, batch_id is 2800 ,loss is [3.1615999], \n",
      "epoch is 5, batch_id is 2900 ,loss is [3.2028248], \n",
      "epoch is 5, batch_id is 3000 ,loss is [2.6607342], \n",
      "epoch is 5, batch_id is 3100 ,loss is [2.8979945], \n",
      "epoch is 5, batch_id is 3200 ,loss is [2.2368178], \n",
      "epoch is 5, batch_id is 3300 ,loss is [3.0909722], \n",
      "epoch is 5, batch_id is 3400 ,loss is [3.2598956], \n",
      "epoch is 5, batch_id is 3500 ,loss is [3.1931796], \n",
      "epoch is 5, batch_id is 3600 ,loss is [1.8223358], \n",
      "epoch is 5, batch_id is 3700 ,loss is [3.3711712], \n",
      "epoch is 6, batch_id is 0 ,loss is [3.04519], \n",
      "epoch is 6, batch_id is 100 ,loss is [2.3709364], \n",
      "epoch is 6, batch_id is 200 ,loss is [5.4618444], \n",
      "epoch is 6, batch_id is 300 ,loss is [2.2812877], \n",
      "epoch is 6, batch_id is 400 ,loss is [2.1517577], \n",
      "epoch is 6, batch_id is 500 ,loss is [3.8587403], \n",
      "epoch is 6, batch_id is 600 ,loss is [5.039449], \n",
      "epoch is 6, batch_id is 700 ,loss is [1.3753195], \n",
      "epoch is 6, batch_id is 800 ,loss is [2.4255104], \n",
      "epoch is 6, batch_id is 900 ,loss is [3.6659198], \n",
      "epoch is 6, batch_id is 1000 ,loss is [1.7992439], \n",
      "epoch is 6, batch_id is 1100 ,loss is [4.8303347], \n",
      "epoch is 6, batch_id is 1200 ,loss is [4.0054903], \n",
      "epoch is 6, batch_id is 1300 ,loss is [3.0130146], \n",
      "epoch is 6, batch_id is 1400 ,loss is [4.771919], \n",
      "epoch is 6, batch_id is 1500 ,loss is [4.8693705], \n",
      "epoch is 6, batch_id is 1600 ,loss is [2.4589987], \n",
      "epoch is 6, batch_id is 1700 ,loss is [3.2704244], \n",
      "epoch is 6, batch_id is 1800 ,loss is [4.931757], \n",
      "epoch is 6, batch_id is 1900 ,loss is [1.992146], \n",
      "epoch is 6, batch_id is 2000 ,loss is [6.5890484], \n",
      "epoch is 6, batch_id is 2100 ,loss is [2.741325], \n",
      "epoch is 6, batch_id is 2200 ,loss is [2.0982518], \n",
      "epoch is 6, batch_id is 2300 ,loss is [2.8842149], \n",
      "epoch is 6, batch_id is 2400 ,loss is [3.979404], \n",
      "epoch is 6, batch_id is 2500 ,loss is [3.0670717], \n",
      "epoch is 6, batch_id is 2600 ,loss is [4.4229918], \n",
      "epoch is 6, batch_id is 2700 ,loss is [2.1650653], \n",
      "epoch is 6, batch_id is 2800 ,loss is [2.8427653], \n",
      "epoch is 6, batch_id is 2900 ,loss is [3.085395], \n",
      "epoch is 6, batch_id is 3000 ,loss is [3.8843074], \n",
      "epoch is 6, batch_id is 3100 ,loss is [4.0450478], \n",
      "epoch is 6, batch_id is 3200 ,loss is [4.2667036], \n",
      "epoch is 6, batch_id is 3300 ,loss is [5.300022], \n",
      "epoch is 6, batch_id is 3400 ,loss is [5.296399], \n",
      "epoch is 6, batch_id is 3500 ,loss is [4.122405], \n",
      "epoch is 6, batch_id is 3600 ,loss is [4.027521], \n",
      "epoch is 6, batch_id is 3700 ,loss is [4.1977224], \n",
      "epoch is 7, batch_id is 0 ,loss is [2.0538242], \n",
      "epoch is 7, batch_id is 100 ,loss is [3.0923846], \n",
      "epoch is 7, batch_id is 200 ,loss is [5.997036], \n",
      "epoch is 7, batch_id is 300 ,loss is [3.733653], \n",
      "epoch is 7, batch_id is 400 ,loss is [2.3677585], \n",
      "epoch is 7, batch_id is 500 ,loss is [3.7825532], \n",
      "epoch is 7, batch_id is 600 ,loss is [3.0400038], \n",
      "epoch is 7, batch_id is 700 ,loss is [4.4763722], \n",
      "epoch is 7, batch_id is 800 ,loss is [2.8508942], \n",
      "epoch is 7, batch_id is 900 ,loss is [2.9311447], \n",
      "epoch is 7, batch_id is 1000 ,loss is [2.4708374], \n",
      "epoch is 7, batch_id is 1100 ,loss is [5.1355243], \n",
      "epoch is 7, batch_id is 1200 ,loss is [3.2301245], \n",
      "epoch is 7, batch_id is 1300 ,loss is [3.9498851], \n",
      "epoch is 7, batch_id is 1400 ,loss is [4.840835], \n",
      "epoch is 7, batch_id is 1500 ,loss is [3.1013951], \n",
      "epoch is 7, batch_id is 1600 ,loss is [2.3941667], \n",
      "epoch is 7, batch_id is 1700 ,loss is [9.006253], \n",
      "epoch is 7, batch_id is 1800 ,loss is [5.146124], \n",
      "epoch is 7, batch_id is 1900 ,loss is [3.4874308], \n",
      "epoch is 7, batch_id is 2000 ,loss is [3.7637062], \n",
      "epoch is 7, batch_id is 2100 ,loss is [3.3676035], \n",
      "epoch is 7, batch_id is 2200 ,loss is [3.286561], \n",
      "epoch is 7, batch_id is 2300 ,loss is [2.4119868], \n",
      "epoch is 7, batch_id is 2400 ,loss is [4.7697353], \n",
      "epoch is 7, batch_id is 2500 ,loss is [3.2362483], \n",
      "epoch is 7, batch_id is 2600 ,loss is [1.7195044], \n",
      "epoch is 7, batch_id is 2700 ,loss is [5.640731], \n",
      "epoch is 7, batch_id is 2800 ,loss is [6.4490285], \n",
      "epoch is 7, batch_id is 2900 ,loss is [3.5109413], \n",
      "epoch is 7, batch_id is 3000 ,loss is [2.1503358], \n",
      "epoch is 7, batch_id is 3100 ,loss is [1.9601904], \n",
      "epoch is 7, batch_id is 3200 ,loss is [3.7845812], \n",
      "epoch is 7, batch_id is 3300 ,loss is [3.1488562], \n",
      "epoch is 7, batch_id is 3400 ,loss is [4.5405827], \n",
      "epoch is 7, batch_id is 3500 ,loss is [1.8835578], \n",
      "epoch is 7, batch_id is 3600 ,loss is [2.2538664], \n",
      "epoch is 7, batch_id is 3700 ,loss is [3.187401], \n",
      "epoch is 8, batch_id is 0 ,loss is [5.8824744], \n",
      "epoch is 8, batch_id is 100 ,loss is [2.2572474], \n",
      "epoch is 8, batch_id is 200 ,loss is [3.4715066], \n",
      "epoch is 8, batch_id is 300 ,loss is [2.823606], \n",
      "epoch is 8, batch_id is 400 ,loss is [1.6888599], \n",
      "epoch is 8, batch_id is 500 ,loss is [1.6405742], \n",
      "epoch is 8, batch_id is 600 ,loss is [2.0083516], \n",
      "epoch is 8, batch_id is 700 ,loss is [2.9723096], \n",
      "epoch is 8, batch_id is 800 ,loss is [1.907327], \n",
      "epoch is 8, batch_id is 900 ,loss is [5.071393], \n",
      "epoch is 8, batch_id is 1000 ,loss is [3.615506], \n",
      "epoch is 8, batch_id is 1100 ,loss is [2.1219492], \n",
      "epoch is 8, batch_id is 1200 ,loss is [4.9843187], \n",
      "epoch is 8, batch_id is 1300 ,loss is [3.154946], \n",
      "epoch is 8, batch_id is 1400 ,loss is [3.410172], \n",
      "epoch is 8, batch_id is 1500 ,loss is [4.450378], \n",
      "epoch is 8, batch_id is 1600 ,loss is [1.8098316], \n",
      "epoch is 8, batch_id is 1700 ,loss is [1.6526346], \n",
      "epoch is 8, batch_id is 1800 ,loss is [2.4419408], \n",
      "epoch is 8, batch_id is 1900 ,loss is [2.6365275], \n",
      "epoch is 8, batch_id is 2000 ,loss is [1.6858662], \n",
      "epoch is 8, batch_id is 2100 ,loss is [2.6183088], \n",
      "epoch is 8, batch_id is 2200 ,loss is [2.446578], \n",
      "epoch is 8, batch_id is 2300 ,loss is [2.036039], \n",
      "epoch is 8, batch_id is 2400 ,loss is [2.0893989], \n",
      "epoch is 8, batch_id is 2500 ,loss is [2.725312], \n",
      "epoch is 8, batch_id is 2600 ,loss is [3.7268944], \n",
      "epoch is 8, batch_id is 2700 ,loss is [2.5389557], \n",
      "epoch is 8, batch_id is 2800 ,loss is [2.381949], \n",
      "epoch is 8, batch_id is 2900 ,loss is [3.1020823], \n",
      "epoch is 8, batch_id is 3000 ,loss is [3.3200607], \n",
      "epoch is 8, batch_id is 3100 ,loss is [3.21979], \n",
      "epoch is 8, batch_id is 3200 ,loss is [6.278081], \n",
      "epoch is 8, batch_id is 3300 ,loss is [4.6759076], \n",
      "epoch is 8, batch_id is 3400 ,loss is [5.0323925], \n",
      "epoch is 8, batch_id is 3500 ,loss is [1.6545613], \n",
      "epoch is 8, batch_id is 3600 ,loss is [2.8247285], \n",
      "epoch is 8, batch_id is 3700 ,loss is [3.4221303], \n",
      "epoch is 9, batch_id is 0 ,loss is [1.5151908], \n",
      "epoch is 9, batch_id is 100 ,loss is [3.6476493], \n",
      "epoch is 9, batch_id is 200 ,loss is [4.615419], \n",
      "epoch is 9, batch_id is 300 ,loss is [3.4976332], \n",
      "epoch is 9, batch_id is 400 ,loss is [5.0315027], \n",
      "epoch is 9, batch_id is 500 ,loss is [6.107003], \n",
      "epoch is 9, batch_id is 600 ,loss is [5.1699505], \n",
      "epoch is 9, batch_id is 700 ,loss is [3.2213864], \n",
      "epoch is 9, batch_id is 800 ,loss is [2.6466577], \n",
      "epoch is 9, batch_id is 900 ,loss is [4.600643], \n",
      "epoch is 9, batch_id is 1000 ,loss is [3.3291273], \n",
      "epoch is 9, batch_id is 1100 ,loss is [2.5114417], \n",
      "epoch is 9, batch_id is 1200 ,loss is [2.7106516], \n",
      "epoch is 9, batch_id is 1300 ,loss is [4.7832155], \n",
      "epoch is 9, batch_id is 1400 ,loss is [3.0988693], \n",
      "epoch is 9, batch_id is 1500 ,loss is [2.5208347], \n",
      "epoch is 9, batch_id is 1600 ,loss is [3.4394999], \n",
      "epoch is 9, batch_id is 1700 ,loss is [1.9772302], \n",
      "epoch is 9, batch_id is 1800 ,loss is [2.1410773], \n",
      "epoch is 9, batch_id is 1900 ,loss is [3.580797], \n",
      "epoch is 9, batch_id is 2000 ,loss is [2.8879578], \n",
      "epoch is 9, batch_id is 2100 ,loss is [4.596205], \n",
      "epoch is 9, batch_id is 2200 ,loss is [2.9628527], \n",
      "epoch is 9, batch_id is 2300 ,loss is [4.1944404], \n",
      "epoch is 9, batch_id is 2400 ,loss is [4.814313], \n",
      "epoch is 9, batch_id is 2500 ,loss is [2.7292287], \n",
      "epoch is 9, batch_id is 2600 ,loss is [4.710209], \n",
      "epoch is 9, batch_id is 2700 ,loss is [3.6662698], \n",
      "epoch is 9, batch_id is 2800 ,loss is [2.0399423], \n",
      "epoch is 9, batch_id is 2900 ,loss is [1.728847], \n",
      "epoch is 9, batch_id is 3000 ,loss is [3.4139683], \n",
      "epoch is 9, batch_id is 3100 ,loss is [2.6614325], \n",
      "epoch is 9, batch_id is 3200 ,loss is [2.7599354], \n",
      "epoch is 9, batch_id is 3300 ,loss is [2.7405238], \n",
      "epoch is 9, batch_id is 3400 ,loss is [2.6492105], \n",
      "epoch is 9, batch_id is 3500 ,loss is [1.5818497], \n",
      "epoch is 9, batch_id is 3600 ,loss is [3.8009534], \n",
      "epoch is 9, batch_id is 3700 ,loss is [3.6065357], \n"
     ]
    }
   ],
   "source": [
    "model = MINIST()\n",
    "train(model)\n"
   ]
  },
  {
   "cell_type": "code",
   "execution_count": 9,
   "metadata": {},
   "outputs": [
    {
     "data": {
      "text/plain": [
       "[<matplotlib.lines.Line2D at 0x1682d540df0>]"
      ]
     },
     "execution_count": 9,
     "metadata": {},
     "output_type": "execute_result"
    },
    {
     "data": {
      "image/png": "[encoded data removed]",
      "text/plain": [
       "<Figure size 432x288 with 1 Axes>"
      ]
     },
     "metadata": {
      "needs_background": "light"
     },
     "output_type": "display_data"
    }
   ],
   "source": [
    "plt.plot(all_iter,all_loss)"
   ]
  },
  {
   "cell_type": "code",
   "execution_count": 11,
   "metadata": {},
   "outputs": [],
   "source": [
    "model_file_path = './models/minist.pdparams'\n",
    "paddle.save(model.state_dict(),model_file_path)"
   ]
  },
  {
   "cell_type": "code",
   "execution_count": 13,
   "metadata": {},
   "outputs": [
    {
     "name": "stdout",
     "output_type": "stream",
     "text": [
      "<PIL.JpegImagePlugin.JpegImageFile image mode=L size=28x28 at 0x1683AAED3A0>\n"
     ]
    },
    {
     "data": {
      "text/plain": [
       "<matplotlib.image.AxesImage at 0x1682f791940>"
      ]
     },
     "execution_count": 13,
     "metadata": {},
     "output_type": "execute_result"
    },
    {
     "data": {
      "image/png": "[encoded data removed]",
      "text/plain": [
       "<Figure size 432x288 with 1 Axes>"
      ]
     },
     "metadata": {
      "needs_background": "light"
     },
     "output_type": "display_data"
    }
   ],
   "source": [
    "from PIL import Image\n",
    "\n",
    "im_path = './work/example_0.jpg'\n",
    "im = Image.open(im_path)\n",
    "print(im)\n",
    "plt.imshow(im,cmap='binary')"
   ]
  },
  {
   "cell_type": "code",
   "execution_count": 18,
   "metadata": {},
   "outputs": [],
   "source": [
    "# 定义转换函数\n",
    "def load_img(img_path):\n",
    "    im = Image.open(img_path)\n",
    "    im = im.resize((28,28),Image.ANTIALIAS)# 转换为 28*28的图片\n",
    "    plt.imshow(im,cmap='binary')\n",
    "    im = np.array(im).reshape(1,-1).astype('float32')\n",
    "\n",
    "    im = 1 - im/255 # 原来的数字部分是白色的，减去以后直接黑变白，白变黑\n",
    "    \n",
    "    return im"
   ]
  },
  {
   "cell_type": "code",
   "execution_count": 19,
   "metadata": {},
   "outputs": [
    {
     "name": "stdout",
     "output_type": "stream",
     "text": [
      "[[1]]\n"
     ]
    },
    {
     "data": {
      "image/png": "[encoded data removed]",
      "text/plain": [
       "<Figure size 432x288 with 1 Axes>"
      ]
     },
     "metadata": {
      "needs_background": "light"
     },
     "output_type": "display_data"
    }
   ],
   "source": [
    "model = MINIST()\n",
    "para_dict = paddle.load(model_file_path)\n",
    "model.load_dict(para_dict)\n",
    "\n",
    "model.eval()#启动预测模式\n",
    "tensor_img = load_img(img_path=im_path)\n",
    "result = model(paddle.to_tensor(tensor_img))\n",
    "print(result.numpy().astype(np.int32))"
   ]
  },
  {
   "cell_type": "code",
   "execution_count": 8,
   "metadata": {},
   "outputs": [
    {
     "name": "stdout",
     "output_type": "stream",
     "text": [
      "[[-1.2247438 -1.2247438 -1.2247438]\n",
      " [ 0.         0.         0.       ]\n",
      " [ 1.2247438  1.2247438  1.2247438]]\n",
      "std 4.0, mean 2.449489742783178, \n",
      " output [-1.22474487  0.          1.22474487]\n"
     ]
    }
   ],
   "source": [
    "import numpy as np\n",
    "import paddle\n",
    "from paddle.nn import BatchNorm1D\n",
    "\n",
    "data = np.array(\n",
    "    [[1,2,3],[4,5,6],[7,8,9]]\n",
    ").astype(np.float32)\n",
    "\n",
    "bn = BatchNorm1D(num_features=3)\n",
    "\n",
    "x = paddle.to_tensor(data)\n",
    "y = bn(x)\n",
    "\n",
    "print(y.numpy())\n",
    "\n",
    "a = np.array([1,4,7])\n",
    "a_mean = a.mean()\n",
    "a_std = a.std()\n",
    "b = (a - a_mean) / a_std\n",
    "print('std {}, mean {}, \\n output {}'.format(a_mean, a_std, b))"
   ]
  },
  {
   "cell_type": "code",
   "execution_count": 1,
   "metadata": {},
   "outputs": [],
   "source": [
    "# transformer\n",
    "import paddle \n",
    "from paddle.nn import Transformer"
   ]
  },
  {
   "cell_type": "code",
   "execution_count": 2,
   "metadata": {},
   "outputs": [],
   "source": [
    "# 输入的维度为128，每个有2个mutihead,一共有1层，FFN是2048\n",
    "transformer = Transformer(128, 2, 1, 1, 512)"
   ]
  },
  {
   "cell_type": "code",
   "execution_count": 3,
   "metadata": {},
   "outputs": [],
   "source": [
    "en_input = paddle.rand((1,4,128))\n",
    "de_input = paddle.rand((1,5,128))"
   ]
  },
  {
   "cell_type": "code",
   "execution_count": 4,
   "metadata": {},
   "outputs": [
    {
     "name": "stdout",
     "output_type": "stream",
     "text": [
      "decoder q , k v [1, 4, 128] [1, 4, 128] [1, 4, 128]\n",
      "decoder ----q , k v [1, 2, 4, 64] [1, 2, 4, 64] [1, 2, 4, 64]\n",
      "product shape  [1, 2, 4, 4]\n",
      "weight shape  [1, 2, 4, 4]\n",
      "out shape :  [1, 2, 4, 64]\n",
      "before linear1 [1, 4, 128]\n",
      "before linear1 [1, 4, 512]\n",
      "the out put of the encod tensor  [1, 4, 128]\n",
      "decoder : target shape is [1, 5, 128], memory shape is [1, 4, 128] \n",
      "decoder q , k v [1, 5, 128] [1, 5, 128] [1, 5, 128]\n",
      "decoder ----q , k v [1, 2, 5, 64] [1, 2, 5, 64] [1, 2, 5, 64]\n",
      "product shape  [1, 2, 5, 5]\n",
      "weight shape  [1, 2, 5, 5]\n",
      "out shape :  [1, 2, 5, 64]\n",
      "decoder q , k v [1, 5, 128] [1, 4, 128] [1, 4, 128]\n",
      "decoder ----q , k v [1, 2, 5, 64] [1, 2, 4, 64] [1, 2, 4, 64]\n",
      "product shape  [1, 2, 5, 4]\n",
      "weight shape  [1, 2, 5, 4]\n",
      "out shape :  [1, 2, 5, 64]\n",
      "[1, 5, 128]\n"
     ]
    },
    {
     "data": {
      "text/plain": [
       "Tensor(shape=[1, 5, 128], dtype=float32, place=CPUPlace, stop_gradient=False,\n",
       "       [[[-1.49321604, -0.28307801,  0.83334619, -0.87134349,  1.20998108,  0.19434968, -0.64225578, -0.15082240, -0.61264586, -0.80401546, -1.07422817, -2.68932366,  0.27309713, -0.22947390,  0.38533080,  0.27733913,  0.29825753,  0.51675415,  0.00558193,  0.75838894,  0.07894260,  0.27313933,  1.61141980, -0.09224652,  0.01086797, -2.32126665,  1.29084003,  0.44524041, -0.01648587,  1.45857012,  0.69419670, -0.02097510,  0.99541414,  1.18747091,  0.58792722, -0.21235347, -1.22499502, -0.85437024,  0.69836462, -0.34874383,  0.11895289, -0.04558991,  0.62552571,  0.35140732, -0.65421343, -0.08775064,  0.94345421, -1.39003181, -0.32999229, -1.04585648, -1.63545585,  0.31441805,  0.99661869, -0.03393826,  1.57341969, -0.50625330,  0.72578907, -0.22307609, -1.06811464, -1.07336438, -1.95975983,  0.62225449,  0.21939208,  1.67042089, -0.68851727,  1.02309918,  2.11421466, -0.13184252,  0.80020767, -0.80848455, -1.30067563,  1.29344678, -0.36236086,  1.26290512, -0.48792252,  2.34943271,  1.01654160, -0.50659007, -0.12546700,  0.80475736,  0.37695676, -0.69557041,  1.52214539,  0.59335887,  2.34808350, -1.39572728,  0.92135656, -0.57316434, -1.28325725,  0.32909310, -0.09331199,  0.62444955,  1.74181592, -0.28193122, -1.16345906,  0.66116977, -0.33194083,  0.17139617, -1.55055034, -0.55299175, -0.57523859, -0.97546697, -0.42717400, -1.19744778, -0.92807370, -0.17194898,  0.76731604, -1.79517508, -0.46905407, -1.03238964,  0.54490715,  0.36201826, -0.41971308,  1.12385261,  1.16793227, -0.86189950,  0.53256649,  0.71908021,  0.57808632, -0.33652747, -0.88155311, -1.56301212,  0.11654929,  0.18967710, -0.85064489, -2.43778348,  0.56404209,  2.38517141],\n",
       "         [-1.36608887, -0.41143134, -0.35362244, -0.67105788,  1.22516215,  0.14051437, -1.70019889, -0.69608116, -0.25438172, -0.47381938, -0.61017060, -2.35511994,  0.16791321, -0.87583220, -0.60784417,  0.03066297,  0.56890798, -2.07538962,  0.53191727,  0.39515767,  0.70432222, -0.11547805,  2.24999094,  0.88937014, -0.05325855, -2.11604023,  1.60629296,  0.26815969,  0.65088636,  0.74005854,  0.58340245,  0.60288978,  1.05184472,  1.02733254, -0.09096263, -1.09930468, -1.32933044, -1.23635793, -0.76624531,  0.07521030,  0.77952462,  0.75035292,  1.75806820, -0.14807029, -1.41949248, -1.16397917, -0.00710328, -0.65021467,  0.10833491, -1.62886119, -0.75260454,  0.29935774,  1.10992491,  0.42574018,  0.76528811, -0.95869118,  0.69314408,  0.32785338, -0.70440656, -0.19649181, -0.88148212,  0.88540864, -0.54549462,  0.70760345, -1.25491869,  0.58983600,  1.35661900,  0.15907207,  0.23804216, -0.87847805, -0.63172674,  0.39914274, -0.93169010,  2.03081417, -0.53773314,  1.53667557,  0.52217072, -0.35634160, -0.62861508,  0.94336081, -0.41885334, -1.21923554,  2.18342352, -0.76328403,  2.22947311, -1.36902654,  0.09028395, -1.05522668, -0.67380446, -0.21899439, -0.43047169,  1.57989800,  1.33985400, -0.62134290,  0.94216764,  1.11768377, -0.43495396,  0.30503279, -0.20840795, -0.25706479,  0.58401048, -0.49400762,  1.29578769, -1.87419665, -0.70150524,  0.20452820, -0.24186657, -1.77519155, -0.81265861,  0.18781613,  0.49384311,  1.23944056, -1.00036657,  1.88343954,  1.21534467, -0.22536279,  0.31140381,  0.73284674,  0.02783797,  1.23649156, -0.60592997, -1.47278690, -1.00925732, -0.10733854, -0.95102948,  0.11373851,  1.19335139,  2.07254815],\n",
       "         [-1.51270008, -0.22249311,  0.55142200, -0.18846492, -0.36255160,  1.30001962, -0.98091137, -0.66333520, -0.36302933, -0.48900115, -1.62287903, -2.40771532,  0.16432978, -0.36524716, -0.22803646, -0.10850474,  0.85114682, -0.63058883,  0.21862769, -0.53674227,  0.59995115, -0.23694888,  0.35432905,  0.64462507,  0.09291146, -1.30106533,  1.42837882, -0.95553327, -0.10504942,  1.15773761,  0.54112774, -0.38855872,  1.44251561, -0.35455433, -0.78916973, -0.41729268, -0.64942497, -1.25329125,  1.61357594,  0.50144339,  0.49434215,  0.00336481,  1.10082173, -0.36570475, -0.52332503, -1.62728667,  0.02356842, -1.36642456, -0.43622431, -0.85307515, -0.49246320,  0.30251601,  1.04123712, -0.42632532,  2.00653672, -1.02911651,  0.83415163,  0.08366482, -1.00998545, -0.10112537, -2.32608795,  0.02389096,  0.85875577,  0.27987799, -1.45865905, -0.30156499,  1.82806838,  0.53991717, -0.30515471, -1.09790301,  0.03877229,  1.69929814, -0.97702891,  1.59244609, -0.76114315,  2.07203412,  0.80777878, -0.26509351,  0.17227228,  0.65176016, -0.11654411, -0.87043840,  1.65258384, -0.18112659,  2.24920535, -1.67780995,  1.11850786, -0.96714038, -1.74107671,  0.73153204,  0.07564207,  1.53889334,  0.97657347, -0.01917952, -0.54353458,  0.12234333, -0.03354452, -0.52510631, -0.49286687,  0.27653596,  0.14895524,  0.41101715,  2.00228286, -1.85195470, -1.38119876,  0.37237397,  0.33047453, -1.07303512,  0.05386800, -0.83698314,  0.78650904,  0.08535697, -0.60618383,  2.90932250,  0.90655655, -0.50798649,  0.88884240,  0.74518681, -0.34533301,  0.76019520, -0.34948674, -0.58069074, -0.37290409,  0.40967584, -0.77219212, -1.57763147,  0.56491452,  2.24616289],\n",
       "         [-1.00232148, -0.55150563, -0.03227062,  0.34817824, -0.02098246,  0.88633841, -0.93132889, -1.00975871, -0.23704639, -0.23785977, -1.97199321, -1.66360629, -0.31282592, -0.34953591, -0.97378474,  0.26734465,  0.25952888,  1.13827324, -0.87113595, -0.75176227, -0.11812651,  0.25849512,  1.03565848, -0.47749943, -0.53684759, -1.52669048,  1.03097367, -0.61565500, -0.33909661,  0.99670917,  0.41466862,  0.41399384,  0.89637226,  0.48167557, -0.33255649, -0.65074444, -0.33720976, -0.61295199,  1.09458733,  1.01004398,  0.80541319,  0.17087267,  1.19768286,  0.35686973, -0.40972495, -0.49609828,  1.01315451, -2.17229462,  0.47462696, -0.39518052, -1.17691278,  1.65550613,  0.87341630, -0.30687717,  1.67705476, -0.36549389, -0.13915202,  0.88229585, -0.81045496, -0.84952176, -1.00898123,  0.52877808,  0.74580503,  1.30560255, -2.16042233,  0.10195417,  2.12872982, -0.12857139, -0.28939956, -0.69496304, -0.22260371,  0.28443435, -1.19289422,  2.23948884, -0.81159449,  1.34448957,  0.81266612, -0.19987634,  0.02220891, -0.15221445,  0.24803646, -0.49131212,  0.68614024,  0.25652322,  1.67123222, -0.88254064,  1.33609092, -1.41723382, -2.03255224, -0.08085610,  0.29705814,  1.73933971,  0.84566224, -0.66688120, -0.21735993,  0.52028161, -0.33948338,  0.38558105, -1.14072001,  0.05903718,  0.27784950,  0.55725747,  2.59830284, -2.49141359, -1.28298187,  0.20632643,  1.05930448, -1.40518618, -0.08507862, -0.68565744,  0.62362975,  0.17252102, -1.28941560,  1.70199585,  1.10498297,  0.28100300,  0.68106002,  0.94743943, -0.15688357,  0.50877535, -0.91961002, -1.89411128,  0.05192034,  0.47421551, -0.29277226, -2.25839090, -0.22486395,  2.25817418],\n",
       "         [-1.37345243, -0.49574175, -0.32212061, -0.73439664,  1.50490153,  0.86546445, -0.91464019, -0.33483332, -0.08127932,  0.15034431, -1.11234379, -2.00178695, -0.45582134, -0.00677940, -0.59496874, -0.15324540, -0.26367292, -0.10383005, -0.18417352,  0.05034138, -0.35766387,  0.13158691,  1.00858164,  0.14791694, -0.25505850, -2.27434087,  1.73108900, -0.52223164,  0.58074498,  0.33839995, -0.13631058, -0.31657806,  2.00966740,  0.93559182, -0.07760996, -1.39489746,  0.05966324, -0.17551129,  0.84173447,  0.43097901,  1.22306371,  0.03094738,  2.11215496, -0.06967594, -1.16877019, -0.72065943,  0.13716118, -2.55855584,  0.06298523, -0.63273555, -0.65831268,  0.85489976,  1.41545010,  0.42121956,  1.30810106,  0.28861961,  0.85369951, -0.62582231, -0.88172811, -0.35801122, -2.04745746,  1.41499925,  0.96961111,  0.70828688, -2.12681770,  0.61218137,  0.81550676, -0.18648174,  0.60994804, -0.34126601,  0.36737767,  0.86309606, -1.25313950,  1.87241638, -0.31516233,  1.48463881,  0.93893558, -0.96702260, -0.06647854,  0.47517702,  0.16958126, -1.46904850,  2.23803067, -0.86475974,  1.67827678, -1.31500602,  0.26952979, -0.85678875, -1.83172464,  0.87921262,  0.26179460,  1.50688994,  0.93255448, -0.83491427,  0.24176718,  0.94543308,  0.16423954,  0.91161925, -2.03386855,  0.08560402, -0.86493653,  0.12624146,  0.59129453, -2.00150681, -1.01613939,  0.01714978,  0.40521309, -1.57498002, -0.40918198, -0.56031185,  0.73862547,  0.20139158, -1.17122114,  2.17286348,  1.15916634,  0.32544646,  0.89057714,  0.61248690, -0.07569371, -0.09139550, -0.15607165, -1.57445061, -0.95313752, -0.14243270, -0.70592844,  0.38300124,  0.76413178,  0.82527626]]])"
      ]
     },
     "execution_count": 4,
     "metadata": {},
     "output_type": "execute_result"
    }
   ],
   "source": [
    "transformer(en_input,de_input)"
   ]
  },
  {
   "cell_type": "code",
   "execution_count": null,
   "metadata": {},
   "outputs": [],
   "source": [
    "class LinearTest(paddle.nn.Layer)"
   ]
  }
 ],
 "metadata": {
  "interpreter": {
   "hash": "73fe03891eabd6446a090ee4c22d8dcac73542d36d6aee5d53443fd4b857a5ca"
  },
  "kernelspec": {
   "display_name": "Python 3.9.6 64-bit ('.venv': venv)",
   "language": "python",
   "name": "python3"
  },
  "language_info": {
   "codemirror_mode": {
    "name": "ipython",
    "version": 3
   },
   "file_extension": ".py",
   "mimetype": "text/x-python",
   "name": "python",
   "nbconvert_exporter": "python",
   "pygments_lexer": "ipython3",
   "version": "3.9.6"
  },
  "orig_nbformat": 4
 },
 "nbformat": 4,
 "nbformat_minor": 2
}
