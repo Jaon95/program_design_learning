{
 "cells": [
  {
   "cell_type": "code",
   "execution_count": 1,
   "metadata": {},
   "outputs": [],
   "source": [
    "data = [[x for x in range(1,11)],[1,1,1,-1,-1,-1,1,1,1,-1]]"
   ]
  },
  {
   "cell_type": "code",
   "execution_count": 2,
   "metadata": {},
   "outputs": [],
   "source": [
    "import paddle.fluid as fluid\n",
    "import paddle as paddle"
   ]
  },
  {
   "cell_type": "code",
   "execution_count": 3,
   "metadata": {},
   "outputs": [],
   "source": [
    "paddle.enable_static()"
   ]
  },
  {
   "cell_type": "code",
   "execution_count": 6,
   "metadata": {},
   "outputs": [],
   "source": [
    "def cnn_net(words,word_dic_size):\n",
    "    emb = fluid.embedding(\n",
    "        input = words,size=[word_dic_size,128],is_sparse=True\n",
    "    )\n",
    "    print(emb.shape)\n",
    "    con1 = fluid.layers.sequence_conv(input=emb,filter_size=3,num_filters=128,act='tanh')\n",
    "    print(con1.shape)\n",
    "    pool1 = fluid.layers.sequence_pool(input = con1,pool_type='sqrt')\n",
    "    print(pool1.shape)\n",
    "    prediction = fluid.layers.fc(input = pool1,size=2,act='softmax')\n",
    "\n",
    "    return prediction"
   ]
  },
  {
   "cell_type": "code",
   "execution_count": 7,
   "metadata": {},
   "outputs": [
    {
     "name": "stdout",
     "output_type": "stream",
     "text": [
      "(1, 128)\n",
      "(1, 128)\n",
      "(1, 128)\n"
     ]
    }
   ],
   "source": [
    "words = fluid.data(name='words',shape=[1],lod_level=1,dtype='int64')\n",
    "\n",
    "prediction = cnn_net(words,25)"
   ]
  }
 ],
 "metadata": {
  "interpreter": {
   "hash": "73fe03891eabd6446a090ee4c22d8dcac73542d36d6aee5d53443fd4b857a5ca"
  },
  "kernelspec": {
   "display_name": "Python 3.9.6 64-bit ('.venv': venv)",
   "language": "python",
   "name": "python3"
  },
  "language_info": {
   "codemirror_mode": {
    "name": "ipython",
    "version": 3
   },
   "file_extension": ".py",
   "mimetype": "text/x-python",
   "name": "python",
   "nbconvert_exporter": "python",
   "pygments_lexer": "ipython3",
   "version": "3.9.6"
  },
  "orig_nbformat": 4
 },
 "nbformat": 4,
 "nbformat_minor": 2
}
