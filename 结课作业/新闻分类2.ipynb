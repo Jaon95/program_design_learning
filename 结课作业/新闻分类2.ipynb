{
 "cells": [
  {
   "cell_type": "markdown",
   "metadata": {
    "collapsed": false
   },
   "source": [
    "# 文本分类\n",
    "\n",
    "\t本次实践将使用Python语言结合paddlepaddle深度学习框架，创建卷积神经网络实现新闻标题的分类模型。\n",
    "\n",
    "    数据来源：从网站上爬取56821条数据中文新闻摘要\n",
    "\n",
    "    数据内容：包含10种类别，国际、文化、娱乐、体育、财经、汽车、教育、科技、房产、证券\n",
    "![](https://ai-studio-static-online.cdn.bcebos.com/1789ed5939d24134b9ce4d45ca15e0fdf21f25aa400c4f6898cc4e02aea5c74e)"
   ]
  },
  {
   "cell_type": "markdown",
   "metadata": {
    "collapsed": false
   },
   "source": [
    "# **1、准备数据:**\n",
    "\n",
    "    创建数据集和数据字典\n",
    "\n",
    "    创建数据读取器train_reader 和test_reader\n",
    "\n",
    "# **2、配置网络**\n",
    "\n",
    "定义网络\n",
    "\n",
    "定义损失函数\n",
    "\n",
    "定义优化算法\n",
    "\n",
    "# **3、训练网络**\n",
    "\n",
    "# **4、模型评估**\n",
    "\n",
    "# **5、模型预测**\n"
   ]
  },
  {
   "cell_type": "code",
   "execution_count": 1,
   "metadata": {
    "collapsed": false
   },
   "outputs": [
    {
     "name": "stdout",
     "output_type": "stream",
     "text": [
      "data6825  dict_txt.txt\tnews_classify_data.txt\ttest_list.txt  train_list.txt\r\n"
     ]
    }
   ],
   "source": [
    "# 查看当前挂载的数据集目录\n",
    "!ls /home/aistudio/data/\n",
    "#将数据移动到 /home/aistudio/data/ 目录下\n",
    "!cp data/data6825/news_classify_data.txt data/"
   ]
  },
  {
   "cell_type": "code",
   "execution_count": 1,
   "metadata": {
    "collapsed": false
   },
   "outputs": [
    {
     "name": "stderr",
     "output_type": "stream",
     "text": [
      "d:\\python高级程序设计\\.venv\\lib\\site-packages\\matplotlib_inline\\config.py:66: DeprecationWarning: InlineBackend._figure_formats_changed is deprecated in traitlets 4.1: use @observe and @unobserve instead.\n",
      "  def _figure_formats_changed(self, name, old, new):\n"
     ]
    }
   ],
   "source": [
    "# 导入必要的包\n",
    "import os\n",
    "from multiprocessing import cpu_count\n",
    "import numpy as np\n",
    "import shutil\n",
    "import paddle\n",
    "import paddle.fluid as fluid\n",
    "import matplotlib.pyplot as plt"
   ]
  },
  {
   "cell_type": "code",
   "execution_count": 4,
   "metadata": {},
   "outputs": [],
   "source": [
    "train_file = 'work/shuffle_Train_IDs.txt'\n",
    "dic_file = 'work/dict.txt'\n",
    "val_file = 'work/Val_IDs.txt'"
   ]
  },
  {
   "cell_type": "code",
   "execution_count": 18,
   "metadata": {},
   "outputs": [],
   "source": [
    "# 定义新闻类别\n",
    "classes = {0: '财经',\n",
    " 1: '彩票',\n",
    " 2: '房产',\n",
    " 3: '股票',\n",
    " 4: '家居',\n",
    " 5: '教育',\n",
    " 6: '科技',\n",
    " 7: '社会',\n",
    " 8: '时尚',\n",
    " 9: '时政',\n",
    " 10: '体育',\n",
    " 11: '星座',\n",
    " 12: '游戏',\n",
    " 13: '娱乐'}"
   ]
  },
  {
   "cell_type": "code",
   "execution_count": 5,
   "metadata": {},
   "outputs": [],
   "source": [
    "# 创建数据字典\n",
    "def load_dic(dic_file):\n",
    "    # 加载字典\n",
    "    word2id_dic = dict()\n",
    "    with open(dic_file,'r',encoding='utf-8') as f:\n",
    "        text = f.read()\n",
    "        word2id_dic = eval(text)\n",
    "    # 获取未编码数字id\n",
    "    word2id_dic['<pad>'] = len(word2id_dic) # 表示非定长数据的填充\n",
    "    return word2id_dic\n",
    "\n",
    "word2id_dic = load_dic(dic_file)"
   ]
  },
  {
   "cell_type": "code",
   "execution_count": 6,
   "metadata": {},
   "outputs": [],
   "source": [
    "# 通过id，索引文字的数据字典\n",
    "id2word_dic = {}\n",
    "for key,values in word2id_dic.items():\n",
    "    id2word_dic[values] = key"
   ]
  },
  {
   "cell_type": "code",
   "execution_count": 8,
   "metadata": {},
   "outputs": [],
   "source": [
    "# 定义数据集加载函数\n",
    "def load_dataset(data_file):\n",
    "    data_set = []\n",
    "    with open(data_file,'r',encoding='utf-8') as f:\n",
    "        for line in f.readlines():\n",
    "            line = line[:-1]\n",
    "            sample = line.split('\\t')\n",
    "            sample[0] = sample[0].split(',')\n",
    "            if len(sample[0]) < 1:\n",
    "                print('数据长度错误')\n",
    "                continue\n",
    "            sample[0] = [int(x) for x in sample[0]]\n",
    "            data_set.append((sample[0],int(sample[1])))\n",
    "    return data_set\n",
    "train_set = load_dataset(train_file)"
   ]
  },
  {
   "cell_type": "code",
   "execution_count": 12,
   "metadata": {},
   "outputs": [],
   "source": [
    "# 创建train_reader\n",
    "def train_reader():\n",
    "    np.random.shuffle(train_set)\n",
    "    for i in train_set:\n",
    "        yield i"
   ]
  },
  {
   "cell_type": "code",
   "execution_count": 27,
   "metadata": {},
   "outputs": [],
   "source": [
    "# 创建test_reader\n",
    "def test_reader():\n",
    "    test_set = load_dataset(val_file)\n",
    "    np.random.shuffle(test_set)\n",
    "    for i in test_set:\n",
    "        yield i"
   ]
  },
  {
   "cell_type": "markdown",
   "metadata": {
    "collapsed": false
   },
   "source": [
    "# 卷积神经网络（Convolutional Neural Networks, CNN）\n",
    "\n",
    "输入词向量序列，产生一个特征图（feature map），对特征图采用时间维度上的最大池化（max pooling over time）操作得到此卷积核对应的整句话的特征，最后，将所有卷积核得到的特征拼接起来即为文本的定长向量表示，对于文本分类问题，将其连接至softmax即构建出完整的模型。\n",
    "\n",
    "在实际应用中，我们会使用多个卷积核来处理句子，窗口大小相同的卷积核堆叠起来形成一个矩阵，这样可以更高效的完成运算。\n",
    "\n",
    "另外，我们也可使用窗口大小不同的卷积核来处理句子.\n",
    "\n",
    "![](https://ai-studio-static-online.cdn.bcebos.com/3766261f24b54514b6cbc0d30270c6a3f38c1d0aaf8f450c97e8303eca51f204)"
   ]
  },
  {
   "cell_type": "code",
   "execution_count": 15,
   "metadata": {
    "collapsed": false
   },
   "outputs": [],
   "source": [
    "# 定义CNN，\n",
    "def convolution_net(data,input_dim,class_dim ,emb_dim , hid_dim = 128, hid_dim2= 128):\n",
    "    emb = fluid.layers.embedding(\n",
    "        input = data,size=[input_dim,emb_dim],is_sparse=True\n",
    "    )\n",
    "    print('emb shape : ',emb.shape)\n",
    "    con_3 = fluid.nets.sequence_conv_pool(\n",
    "        input= emb,\n",
    "        num_filters=hid_dim,\n",
    "        filter_size=3,\n",
    "        act='tanh',\n",
    "        pool_type='sqrt'\n",
    "    )\n",
    "    print('con3 shape ',con_3.shape)\n",
    "    con_4 = fluid.nets.sequence_conv_pool(\n",
    "        input= emb,\n",
    "        num_filters=hid_dim2,\n",
    "        filter_size=4,\n",
    "        act='tanh',\n",
    "        pool_type='sqrt'\n",
    "    )\n",
    "    print('con4 shape ',con_4.shape)\n",
    "    prediction = fluid.layers.fc(\n",
    "        input = [con_3,con_4],size=class_dim,act='softmax'\n",
    "    )\n",
    "\n",
    "    return prediction"
   ]
  },
  {
   "cell_type": "code",
   "execution_count": 17,
   "metadata": {},
   "outputs": [],
   "source": [
    "paddle.enable_static()"
   ]
  },
  {
   "cell_type": "code",
   "execution_count": 19,
   "metadata": {},
   "outputs": [],
   "source": [
    "# 定义超参数\n",
    "dict_dim = len(word2id_dic)\n",
    "embed_dim = 128\n",
    "class_dim = len(classes)"
   ]
  },
  {
   "cell_type": "code",
   "execution_count": 20,
   "metadata": {
    "collapsed": false
   },
   "outputs": [],
   "source": [
    "words = fluid.layers.data(\n",
    "    name='words',shape=[1],dtype='int64',lod_level=1\n",
    ")\n",
    "def inference_program(word_dic):\n",
    "    dict_dim = len(word2id_dic)\n",
    "    net = convolution_net(words,dict_dim,class_dim=class_dim,emb_dim=embed_dim)\n",
    "    return net"
   ]
  },
  {
   "cell_type": "code",
   "execution_count": 21,
   "metadata": {
    "collapsed": false
   },
   "outputs": [],
   "source": [
    "def train_program(prediction):\n",
    "    label = fluid.layers.data(\n",
    "        name = 'label',shape=[1],dtype='int64'\n",
    "    )\n",
    "    cost = fluid.layers.cross_entropy(input=prediction,label=label)\n",
    "    avg_cost = fluid.layers.mean(cost)\n",
    "    acc = fluid.layers.accuracy(input= prediction,label=label)\n",
    "    return [avg_cost,acc]"
   ]
  },
  {
   "cell_type": "code",
   "execution_count": 23,
   "metadata": {
    "collapsed": false
   },
   "outputs": [],
   "source": [
    "def optimizer_func():\n",
    "    return fluid.optimizer.Adam(learning_rate=0.002)"
   ]
  },
  {
   "cell_type": "code",
   "execution_count": 24,
   "metadata": {
    "collapsed": false
   },
   "outputs": [],
   "source": [
    "use_cuda = False  #在cpu上进行训练\n",
    "place = fluid.CUDAPlace(0) if use_cuda else fluid.CPUPlace()\n",
    "exe = fluid.Executor(place)"
   ]
  },
  {
   "cell_type": "code",
   "execution_count": 25,
   "metadata": {
    "collapsed": false
   },
   "outputs": [
    {
     "name": "stdout",
     "output_type": "stream",
     "text": [
      "emb shape :  (-1, 128)\n",
      "con3 shape  (-1, 128)\n",
      "con4 shape  (-1, 128)\n"
     ]
    }
   ],
   "source": [
    "prediction = inference_program('data/dict_txt.txt')\n",
    "[avg_cost,acc] = train_program(prediction)\n"
   ]
  },
  {
   "cell_type": "code",
   "execution_count": 26,
   "metadata": {
    "collapsed": false
   },
   "outputs": [
    {
     "data": {
      "text/plain": [
       "([{Beta1PowOut=['embedding_0.w_0_beta1_pow_acc_0'], Beta2PowOut=['embedding_0.w_0_beta2_pow_acc_0'], Moment1Out=['embedding_0.w_0_moment1_0'], Moment2Out=['embedding_0.w_0_moment2_0'], ParamOut=['embedding_0.w_0']} = adam(inputs={Beta1Pow=['embedding_0.w_0_beta1_pow_acc_0'], Beta1Tensor=[], Beta2Pow=['embedding_0.w_0_beta2_pow_acc_0'], Beta2Tensor=[], Grad=['embedding_0.w_0@GRAD'], LearningRate=['learning_rate_0'], MasterParam=[], Moment1=['embedding_0.w_0_moment1_0'], Moment2=['embedding_0.w_0_moment2_0'], Param=['embedding_0.w_0']}, beta1 = 0.8999999761581421, beta2 = 0.9990000128746033, epsilon = 9.99999993922529e-09, lazy_mode = False, min_row_size_to_use_multithread = 1000, multi_precision = False, op_device = , op_namescope = /optimizer/, op_role = 2, op_role_var = ['embedding_0.w_0', 'embedding_0.w_0@GRAD']),\n",
       "  {Beta1PowOut=['fc_0.b_0_beta1_pow_acc_0'], Beta2PowOut=['fc_0.b_0_beta2_pow_acc_0'], Moment1Out=['fc_0.b_0_moment1_0'], Moment2Out=['fc_0.b_0_moment2_0'], ParamOut=['fc_0.b_0']} = adam(inputs={Beta1Pow=['fc_0.b_0_beta1_pow_acc_0'], Beta1Tensor=[], Beta2Pow=['fc_0.b_0_beta2_pow_acc_0'], Beta2Tensor=[], Grad=['fc_0.b_0@GRAD'], LearningRate=['learning_rate_0'], MasterParam=[], Moment1=['fc_0.b_0_moment1_0'], Moment2=['fc_0.b_0_moment2_0'], Param=['fc_0.b_0']}, beta1 = 0.8999999761581421, beta2 = 0.9990000128746033, epsilon = 9.99999993922529e-09, lazy_mode = False, min_row_size_to_use_multithread = 1000, multi_precision = False, op_device = , op_namescope = /optimizer_1/, op_role = 2, op_role_var = ['fc_0.b_0', 'fc_0.b_0@GRAD']),\n",
       "  {Beta1PowOut=['fc_0.w_0_beta1_pow_acc_0'], Beta2PowOut=['fc_0.w_0_beta2_pow_acc_0'], Moment1Out=['fc_0.w_0_moment1_0'], Moment2Out=['fc_0.w_0_moment2_0'], ParamOut=['fc_0.w_0']} = adam(inputs={Beta1Pow=['fc_0.w_0_beta1_pow_acc_0'], Beta1Tensor=[], Beta2Pow=['fc_0.w_0_beta2_pow_acc_0'], Beta2Tensor=[], Grad=['fc_0.w_0@GRAD'], LearningRate=['learning_rate_0'], MasterParam=[], Moment1=['fc_0.w_0_moment1_0'], Moment2=['fc_0.w_0_moment2_0'], Param=['fc_0.w_0']}, beta1 = 0.8999999761581421, beta2 = 0.9990000128746033, epsilon = 9.99999993922529e-09, lazy_mode = False, min_row_size_to_use_multithread = 1000, multi_precision = False, op_device = , op_namescope = /optimizer_2/, op_role = 2, op_role_var = ['fc_0.w_0', 'fc_0.w_0@GRAD']),\n",
       "  {Beta1PowOut=['fc_0.w_1_beta1_pow_acc_0'], Beta2PowOut=['fc_0.w_1_beta2_pow_acc_0'], Moment1Out=['fc_0.w_1_moment1_0'], Moment2Out=['fc_0.w_1_moment2_0'], ParamOut=['fc_0.w_1']} = adam(inputs={Beta1Pow=['fc_0.w_1_beta1_pow_acc_0'], Beta1Tensor=[], Beta2Pow=['fc_0.w_1_beta2_pow_acc_0'], Beta2Tensor=[], Grad=['fc_0.w_1@GRAD'], LearningRate=['learning_rate_0'], MasterParam=[], Moment1=['fc_0.w_1_moment1_0'], Moment2=['fc_0.w_1_moment2_0'], Param=['fc_0.w_1']}, beta1 = 0.8999999761581421, beta2 = 0.9990000128746033, epsilon = 9.99999993922529e-09, lazy_mode = False, min_row_size_to_use_multithread = 1000, multi_precision = False, op_device = , op_namescope = /optimizer_3/, op_role = 2, op_role_var = ['fc_0.w_1', 'fc_0.w_1@GRAD']),\n",
       "  {Beta1PowOut=['sequence_conv_0.b_0_beta1_pow_acc_0'], Beta2PowOut=['sequence_conv_0.b_0_beta2_pow_acc_0'], Moment1Out=['sequence_conv_0.b_0_moment1_0'], Moment2Out=['sequence_conv_0.b_0_moment2_0'], ParamOut=['sequence_conv_0.b_0']} = adam(inputs={Beta1Pow=['sequence_conv_0.b_0_beta1_pow_acc_0'], Beta1Tensor=[], Beta2Pow=['sequence_conv_0.b_0_beta2_pow_acc_0'], Beta2Tensor=[], Grad=['sequence_conv_0.b_0@GRAD'], LearningRate=['learning_rate_0'], MasterParam=[], Moment1=['sequence_conv_0.b_0_moment1_0'], Moment2=['sequence_conv_0.b_0_moment2_0'], Param=['sequence_conv_0.b_0']}, beta1 = 0.8999999761581421, beta2 = 0.9990000128746033, epsilon = 9.99999993922529e-09, lazy_mode = False, min_row_size_to_use_multithread = 1000, multi_precision = False, op_device = , op_namescope = /optimizer_4/, op_role = 2, op_role_var = ['sequence_conv_0.b_0', 'sequence_conv_0.b_0@GRAD']),\n",
       "  {Beta1PowOut=['sequence_conv_0.w_0_beta1_pow_acc_0'], Beta2PowOut=['sequence_conv_0.w_0_beta2_pow_acc_0'], Moment1Out=['sequence_conv_0.w_0_moment1_0'], Moment2Out=['sequence_conv_0.w_0_moment2_0'], ParamOut=['sequence_conv_0.w_0']} = adam(inputs={Beta1Pow=['sequence_conv_0.w_0_beta1_pow_acc_0'], Beta1Tensor=[], Beta2Pow=['sequence_conv_0.w_0_beta2_pow_acc_0'], Beta2Tensor=[], Grad=['sequence_conv_0.w_0@GRAD'], LearningRate=['learning_rate_0'], MasterParam=[], Moment1=['sequence_conv_0.w_0_moment1_0'], Moment2=['sequence_conv_0.w_0_moment2_0'], Param=['sequence_conv_0.w_0']}, beta1 = 0.8999999761581421, beta2 = 0.9990000128746033, epsilon = 9.99999993922529e-09, lazy_mode = False, min_row_size_to_use_multithread = 1000, multi_precision = False, op_device = , op_namescope = /optimizer_5/, op_role = 2, op_role_var = ['sequence_conv_0.w_0', 'sequence_conv_0.w_0@GRAD']),\n",
       "  {Beta1PowOut=['sequence_conv_1.b_0_beta1_pow_acc_0'], Beta2PowOut=['sequence_conv_1.b_0_beta2_pow_acc_0'], Moment1Out=['sequence_conv_1.b_0_moment1_0'], Moment2Out=['sequence_conv_1.b_0_moment2_0'], ParamOut=['sequence_conv_1.b_0']} = adam(inputs={Beta1Pow=['sequence_conv_1.b_0_beta1_pow_acc_0'], Beta1Tensor=[], Beta2Pow=['sequence_conv_1.b_0_beta2_pow_acc_0'], Beta2Tensor=[], Grad=['sequence_conv_1.b_0@GRAD'], LearningRate=['learning_rate_0'], MasterParam=[], Moment1=['sequence_conv_1.b_0_moment1_0'], Moment2=['sequence_conv_1.b_0_moment2_0'], Param=['sequence_conv_1.b_0']}, beta1 = 0.8999999761581421, beta2 = 0.9990000128746033, epsilon = 9.99999993922529e-09, lazy_mode = False, min_row_size_to_use_multithread = 1000, multi_precision = False, op_device = , op_namescope = /optimizer_6/, op_role = 2, op_role_var = ['sequence_conv_1.b_0', 'sequence_conv_1.b_0@GRAD']),\n",
       "  {Beta1PowOut=['sequence_conv_1.w_0_beta1_pow_acc_0'], Beta2PowOut=['sequence_conv_1.w_0_beta2_pow_acc_0'], Moment1Out=['sequence_conv_1.w_0_moment1_0'], Moment2Out=['sequence_conv_1.w_0_moment2_0'], ParamOut=['sequence_conv_1.w_0']} = adam(inputs={Beta1Pow=['sequence_conv_1.w_0_beta1_pow_acc_0'], Beta1Tensor=[], Beta2Pow=['sequence_conv_1.w_0_beta2_pow_acc_0'], Beta2Tensor=[], Grad=['sequence_conv_1.w_0@GRAD'], LearningRate=['learning_rate_0'], MasterParam=[], Moment1=['sequence_conv_1.w_0_moment1_0'], Moment2=['sequence_conv_1.w_0_moment2_0'], Param=['sequence_conv_1.w_0']}, beta1 = 0.8999999761581421, beta2 = 0.9990000128746033, epsilon = 9.99999993922529e-09, lazy_mode = False, min_row_size_to_use_multithread = 1000, multi_precision = False, op_device = , op_namescope = /optimizer_7/, op_role = 2, op_role_var = ['sequence_conv_1.w_0', 'sequence_conv_1.w_0@GRAD'])],\n",
       " [(persist trainable param embedding_0.w_0 : LOD_TENSOR.shape(5308, 128).dtype(float32).stop_gradient(False),\n",
       "   var embedding_0.w_0@GRAD : SELECTED_ROWS.shape(5308, 128).dtype(float32).stop_gradient(False)),\n",
       "  (persist trainable param sequence_conv_0.w_0 : LOD_TENSOR.shape(384, 128).dtype(float32).stop_gradient(False),\n",
       "   var sequence_conv_0.w_0@GRAD : LOD_TENSOR.shape(384, 128).dtype(float32).stop_gradient(False)),\n",
       "  (persist trainable param sequence_conv_0.b_0 : LOD_TENSOR.shape(128,).dtype(float32).stop_gradient(False),\n",
       "   var sequence_conv_0.b_0@GRAD : LOD_TENSOR.shape(128,).dtype(float32).stop_gradient(False)),\n",
       "  (persist trainable param sequence_conv_1.w_0 : LOD_TENSOR.shape(512, 128).dtype(float32).stop_gradient(False),\n",
       "   var sequence_conv_1.w_0@GRAD : LOD_TENSOR.shape(512, 128).dtype(float32).stop_gradient(False)),\n",
       "  (persist trainable param sequence_conv_1.b_0 : LOD_TENSOR.shape(128,).dtype(float32).stop_gradient(False),\n",
       "   var sequence_conv_1.b_0@GRAD : LOD_TENSOR.shape(128,).dtype(float32).stop_gradient(False)),\n",
       "  (persist trainable param fc_0.w_0 : LOD_TENSOR.shape(128, 14).dtype(float32).stop_gradient(False),\n",
       "   var fc_0.w_0@GRAD : LOD_TENSOR.shape(128, 14).dtype(float32).stop_gradient(False)),\n",
       "  (persist trainable param fc_0.w_1 : LOD_TENSOR.shape(128, 14).dtype(float32).stop_gradient(False),\n",
       "   var fc_0.w_1@GRAD : LOD_TENSOR.shape(128, 14).dtype(float32).stop_gradient(False)),\n",
       "  (persist trainable param fc_0.b_0 : LOD_TENSOR.shape(14,).dtype(float32).stop_gradient(False),\n",
       "   var fc_0.b_0@GRAD : LOD_TENSOR.shape(14,).dtype(float32).stop_gradient(False))])"
      ]
     },
     "execution_count": 26,
     "metadata": {},
     "output_type": "execute_result"
    }
   ],
   "source": [
    "optimizer = optimizer_func()\n",
    "optimizer.minimize(avg_cost)"
   ]
  },
  {
   "cell_type": "code",
   "execution_count": 29,
   "metadata": {
    "collapsed": false
   },
   "outputs": [],
   "source": [
    "# 获取训练数据读取器和测试数据读取器\n",
    "BATCH_SIZE =128\n",
    "train_reader = paddle.batch(reader=train_reader, batch_size=BATCH_SIZE)\n",
    "test_reader = paddle.batch(reader=test_reader, batch_size=BATCH_SIZE)"
   ]
  },
  {
   "cell_type": "code",
   "execution_count": 30,
   "metadata": {},
   "outputs": [
    {
     "name": "stdout",
     "output_type": "stream",
     "text": [
      "([2830, 2567, 1472, 3222, 4632, 3200, 389, 690, 3951, 3967, 2983, 5072, 2886, 690, 1006, 4289, 3314, 1230, 5276, 4141, 1264], 10)\n"
     ]
    }
   ],
   "source": [
    "sampledata = next(train_reader())\n",
    "print(sampledata[0])"
   ]
  },
  {
   "cell_type": "code",
   "execution_count": 31,
   "metadata": {
    "collapsed": false
   },
   "outputs": [],
   "source": [
    "# 定义数据映射器\n",
    "feeder = fluid.DataFeeder(place=place, feed_list=['words','label'])"
   ]
  },
  {
   "cell_type": "code",
   "execution_count": 34,
   "metadata": {
    "collapsed": false
   },
   "outputs": [
    {
     "data": {
      "text/plain": [
       "[]"
      ]
     },
     "execution_count": 34,
     "metadata": {},
     "output_type": "execute_result"
    }
   ],
   "source": [
    "#参数初始化\n",
    "exe.run(fluid.default_startup_program())"
   ]
  },
  {
   "cell_type": "code",
   "execution_count": 35,
   "metadata": {
    "collapsed": false
   },
   "outputs": [],
   "source": [
    "test_program = fluid.default_main_program().clone(for_test=True)"
   ]
  },
  {
   "cell_type": "code",
   "execution_count": 36,
   "metadata": {
    "collapsed": false
   },
   "outputs": [],
   "source": [
    "all_train_iter=0\n",
    "all_train_iters=[]\n",
    "all_train_costs=[]\n",
    "all_train_accs=[]\n",
    "\n",
    "def draw_train_process(title,iters,costs,accs,label_cost,lable_acc):\n",
    "    plt.title(title, fontsize=24)\n",
    "\n",
    "    plt.xlabel(\"iter\", fontsize=20)\n",
    "    plt.ylabel(\"cost/acc\", fontsize=20)\n",
    "\n",
    "    plt.plot(iters, costs,color='red',label=label_cost) \n",
    "    plt.plot(iters, accs,color='green',label=lable_acc) \n",
    "    plt.legend()\n",
    "    plt.grid()\n",
    "    \n",
    "    plt.show()"
   ]
  },
  {
   "cell_type": "code",
   "execution_count": 37,
   "metadata": {
    "collapsed": false
   },
   "outputs": [
    {
     "name": "stdout",
     "output_type": "stream",
     "text": [
      "Pass:0, Batch:0, Cost:2.64438, Acc:0.04688\n",
      "Pass:0, Batch:100, Cost:0.52839, Acc:0.82031\n",
      "Pass:0, Batch:200, Cost:0.50471, Acc:0.82812\n",
      "Pass:0, Batch:300, Cost:0.58335, Acc:0.81250\n",
      "Pass:0, Batch:400, Cost:0.53429, Acc:0.84375\n",
      "Pass:0, Batch:500, Cost:0.54593, Acc:0.82031\n",
      "Pass:0, Batch:600, Cost:0.43220, Acc:0.87500\n",
      "Pass:0, Batch:700, Cost:0.61883, Acc:0.75000\n",
      "Pass:0, Batch:800, Cost:0.36697, Acc:0.89062\n",
      "Pass:0, Batch:900, Cost:0.28341, Acc:0.89844\n",
      "Pass:0, Batch:1000, Cost:0.55198, Acc:0.84375\n",
      "Pass:0, Batch:1100, Cost:0.34354, Acc:0.90625\n",
      "Pass:0, Batch:1200, Cost:0.26559, Acc:0.92188\n",
      "Pass:0, Batch:1300, Cost:0.39640, Acc:0.87500\n",
      "Pass:0, Batch:1400, Cost:0.60561, Acc:0.78906\n",
      "Pass:0, Batch:1500, Cost:0.43641, Acc:0.85938\n",
      "Pass:0, Batch:1600, Cost:0.34930, Acc:0.86719\n",
      "Pass:0, Batch:1700, Cost:0.34159, Acc:0.86719\n",
      "Pass:0, Batch:1800, Cost:0.38901, Acc:0.86719\n",
      "Pass:0, Batch:1900, Cost:0.44684, Acc:0.86719\n",
      "Pass:0, Batch:2000, Cost:0.43953, Acc:0.89062\n"
     ]
    },
    {
     "ename": "KeyboardInterrupt",
     "evalue": "",
     "output_type": "error",
     "traceback": [
      "\u001b[1;31m---------------------------------------------------------------------------\u001b[0m",
      "\u001b[1;31mKeyboardInterrupt\u001b[0m                         Traceback (most recent call last)",
      "\u001b[1;32m~\\AppData\\Local\\Temp/ipykernel_7284/2880817452.py\u001b[0m in \u001b[0;36m<module>\u001b[1;34m\u001b[0m\n\u001b[0;32m      6\u001b[0m     \u001b[1;31m# 进行训练\u001b[0m\u001b[1;33m\u001b[0m\u001b[1;33m\u001b[0m\u001b[1;33m\u001b[0m\u001b[0m\n\u001b[0;32m      7\u001b[0m     \u001b[1;32mfor\u001b[0m \u001b[0mbatch_id\u001b[0m\u001b[1;33m,\u001b[0m \u001b[0mdata\u001b[0m \u001b[1;32min\u001b[0m \u001b[0menumerate\u001b[0m\u001b[1;33m(\u001b[0m\u001b[0mtrain_reader\u001b[0m\u001b[1;33m(\u001b[0m\u001b[1;33m)\u001b[0m\u001b[1;33m)\u001b[0m\u001b[1;33m:\u001b[0m\u001b[1;33m\u001b[0m\u001b[1;33m\u001b[0m\u001b[0m\n\u001b[1;32m----> 8\u001b[1;33m         train_cost, train_acc = exe.run(program=fluid.default_main_program(),\n\u001b[0m\u001b[0;32m      9\u001b[0m                              \u001b[0mfeed\u001b[0m\u001b[1;33m=\u001b[0m\u001b[0mfeeder\u001b[0m\u001b[1;33m.\u001b[0m\u001b[0mfeed\u001b[0m\u001b[1;33m(\u001b[0m\u001b[0mdata\u001b[0m\u001b[1;33m)\u001b[0m\u001b[1;33m,\u001b[0m\u001b[1;33m\u001b[0m\u001b[1;33m\u001b[0m\u001b[0m\n\u001b[0;32m     10\u001b[0m                              fetch_list=[avg_cost, acc])\n",
      "\u001b[1;32md:\\python高级程序设计\\.venv\\lib\\site-packages\\paddle\\fluid\\executor.py\u001b[0m in \u001b[0;36mrun\u001b[1;34m(self, program, feed, fetch_list, feed_var_name, fetch_var_name, scope, return_numpy, use_program_cache, return_merged, use_prune)\u001b[0m\n\u001b[0;32m   1096\u001b[0m         \"\"\"\n\u001b[0;32m   1097\u001b[0m         \u001b[1;32mtry\u001b[0m\u001b[1;33m:\u001b[0m\u001b[1;33m\u001b[0m\u001b[1;33m\u001b[0m\u001b[0m\n\u001b[1;32m-> 1098\u001b[1;33m             return self._run_impl(\n\u001b[0m\u001b[0;32m   1099\u001b[0m                 \u001b[0mprogram\u001b[0m\u001b[1;33m=\u001b[0m\u001b[0mprogram\u001b[0m\u001b[1;33m,\u001b[0m\u001b[1;33m\u001b[0m\u001b[1;33m\u001b[0m\u001b[0m\n\u001b[0;32m   1100\u001b[0m                 \u001b[0mfeed\u001b[0m\u001b[1;33m=\u001b[0m\u001b[0mfeed\u001b[0m\u001b[1;33m,\u001b[0m\u001b[1;33m\u001b[0m\u001b[1;33m\u001b[0m\u001b[0m\n",
      "\u001b[1;32md:\\python高级程序设计\\.venv\\lib\\site-packages\\paddle\\fluid\\executor.py\u001b[0m in \u001b[0;36m_run_impl\u001b[1;34m(self, program, feed, fetch_list, feed_var_name, fetch_var_name, scope, return_numpy, use_program_cache, return_merged, use_prune)\u001b[0m\n\u001b[0;32m   1229\u001b[0m                     return_merged=return_merged)\n\u001b[0;32m   1230\u001b[0m \u001b[1;33m\u001b[0m\u001b[0m\n\u001b[1;32m-> 1231\u001b[1;33m             return self._run_program(\n\u001b[0m\u001b[0;32m   1232\u001b[0m                 \u001b[0mprogram\u001b[0m\u001b[1;33m,\u001b[0m\u001b[1;33m\u001b[0m\u001b[1;33m\u001b[0m\u001b[0m\n\u001b[0;32m   1233\u001b[0m                 \u001b[0mfeed\u001b[0m\u001b[1;33m=\u001b[0m\u001b[0mfeed\u001b[0m\u001b[1;33m,\u001b[0m\u001b[1;33m\u001b[0m\u001b[1;33m\u001b[0m\u001b[0m\n",
      "\u001b[1;32md:\\python高级程序设计\\.venv\\lib\\site-packages\\paddle\\fluid\\executor.py\u001b[0m in \u001b[0;36m_run_program\u001b[1;34m(self, program, feed, fetch_list, feed_var_name, fetch_var_name, scope, return_numpy, use_program_cache)\u001b[0m\n\u001b[0;32m   1326\u001b[0m \u001b[1;33m\u001b[0m\u001b[0m\n\u001b[0;32m   1327\u001b[0m         \u001b[1;32mif\u001b[0m \u001b[1;32mnot\u001b[0m \u001b[0muse_program_cache\u001b[0m\u001b[1;33m:\u001b[0m\u001b[1;33m\u001b[0m\u001b[1;33m\u001b[0m\u001b[0m\n\u001b[1;32m-> 1328\u001b[1;33m             self._default_executor.run(program.desc, scope, 0, True, True,\n\u001b[0m\u001b[0;32m   1329\u001b[0m                                        [fetch_var_name])\n\u001b[0;32m   1330\u001b[0m         \u001b[1;32melse\u001b[0m\u001b[1;33m:\u001b[0m\u001b[1;33m\u001b[0m\u001b[1;33m\u001b[0m\u001b[0m\n",
      "\u001b[1;31mKeyboardInterrupt\u001b[0m: "
     ]
    }
   ],
   "source": [
    "EPOCH_NUM=5\n",
    "model_save_dir = 'work/infer_model/'\n",
    "# 开始训练\n",
    "\n",
    "for pass_id in range(EPOCH_NUM):\n",
    "    # 进行训练\n",
    "    for batch_id, data in enumerate(train_reader()):\n",
    "        train_cost, train_acc = exe.run(program=fluid.default_main_program(),\n",
    "                             feed=feeder.feed(data),\n",
    "                             fetch_list=[avg_cost, acc])\n",
    "        all_train_iter=all_train_iter+BATCH_SIZE #0,128,...\n",
    "        all_train_iters.append(all_train_iter) #\n",
    "        all_train_costs.append(train_cost[0]) #每个batch训练后的均方误差\n",
    "        all_train_accs.append(train_acc[0]) #每个batch训练后的准确率，因为数据平衡，所以主要评估acc，\n",
    "        \n",
    "        if batch_id % 100 == 0:\n",
    "            print('Pass:%d, Batch:%d, Cost:%0.5f, Acc:%0.5f' % (pass_id, batch_id, train_cost[0], train_acc[0]))\n",
    "    # 进行测试\n",
    "    test_costs = []\n",
    "    test_accs = []\n",
    "    for batch_id, data in enumerate(test_reader()):\n",
    "        test_cost, test_acc = exe.run(program=test_program,\n",
    "                                              feed=feeder.feed(data),\n",
    "                                              fetch_list=[avg_cost,acc])\n",
    "        test_costs.append(test_cost[0])\n",
    "        test_accs.append(test_acc[0])\n",
    "    # 计算平均预测损失在和准确率\n",
    "    test_cost = (sum(test_costs) / len(test_costs))\n",
    "    test_acc = (sum(test_accs) / len(test_accs))\n",
    "    print('Test:%d, Cost:%0.5f, ACC:%0.5f' % (pass_id, test_cost, test_acc))\n",
    "\n"
   ]
  },
  {
   "cell_type": "code",
   "execution_count": 28,
   "metadata": {
    "collapsed": false
   },
   "outputs": [
    {
     "data": {
      "image/png": "[encoded data removed]",
      "text/plain": [
       "<Figure size 432x288 with 1 Axes>"
      ]
     },
     "metadata": {},
     "output_type": "display_data"
    }
   ],
   "source": [
    "draw_train_process('cost_acc',all_train_iters,all_train_costs,all_train_accs,\"trainning cost\",\"trainning acc\")"
   ]
  },
  {
   "cell_type": "code",
   "execution_count": 29,
   "metadata": {
    "collapsed": false
   },
   "outputs": [
    {
     "name": "stdout",
     "output_type": "stream",
     "text": [
      "训练模型保存完成！\n"
     ]
    }
   ],
   "source": [
    "# 保存预测模型\n",
    "if not os.path.exists(model_save_dir): \n",
    "    os.makedirs(model_save_dir) \n",
    "fluid.io.save_inference_model(model_save_dir, \n",
    "                            feeded_var_names=['words'], \n",
    "                            target_vars=[prediction], \n",
    "                            executor=exe)\n",
    "print('训练模型保存完成！') "
   ]
  },
  {
   "cell_type": "code",
   "execution_count": 38,
   "metadata": {
    "collapsed": false
   },
   "outputs": [],
   "source": [
    "# 获取数据,将数据转换成编码格式\n",
    "def get_data(sentence):\n",
    "    # 把字符串数据转换成列表数据\n",
    "    keys = word2id_dic.keys()\n",
    "    data = []\n",
    "    for s in sentence:\n",
    "        # 判断是否存在未知字符\n",
    "        if not s in keys:\n",
    "            s = '<unk>'\n",
    "        data.append(word2id_dic[s])\n",
    "    return data\n"
   ]
  },
  {
   "cell_type": "code",
   "execution_count": 39,
   "metadata": {
    "collapsed": false
   },
   "outputs": [
    {
     "name": "stdout",
     "output_type": "stream",
     "text": [
      "[[32, 34]]\n",
      "  - lod: {{0, 32, 66}}\n",
      "  - place: CPUPlace\n",
      "  - shape: [66, 1]\n",
      "  - layout: NCHW\n",
      "  - dtype: int\n",
      "  - data: [4401 4162 1839 3844 1139 3967 2567 294 3825 4075 312 4069 2896 1002 3979 898 1521 2050 1094 3983 2033 4401 2681 2573 186 1499 303 12 2787 601 2040 1148 4944 3174 4426 4133 1094 1546 3740 1695 4562 3019 3178 4666 1094 4363 1596 4260 221 643 200 2316 4363 4432 1002 2667 2031 715 1912 454 1978 3253 1003 4221 1831 1002]\n"
     ]
    }
   ],
   "source": [
    "data = []\n",
    "# 获取预测数据\n",
    "data1 = get_data('在获得诺贝尔文学奖7年之后，莫言15日晚间在山西汾阳贾家庄如是说')\n",
    "data2 = get_data('综合“今日美国”、《世界日报》等当地媒体报道，芝加哥河滨警察局表示，')\n",
    "data.append(data1)\n",
    "data.append(data2)\n",
    "base_shape = [[len(c) for c in data]]\n",
    "print(base_shape)\n",
    "tensor_words = fluid.create_lod_tensor(data, base_shape, place)\n",
    "print(tensor_words)"
   ]
  },
  {
   "cell_type": "code",
   "execution_count": 32,
   "metadata": {
    "collapsed": false
   },
   "outputs": [
    {
     "name": "stdout",
     "output_type": "stream",
     "text": [
      "[[[9 5 4 3 7 2 1 6 8 0]\n",
      "  [0 1 4 6 2 5 9 7 8 3]]]\n",
      "预测结果标签为：0， 名称为：文化， 概率为：0.962727\n",
      "预测结果标签为：3， 名称为：财经， 概率为：0.699406\n"
     ]
    }
   ],
   "source": [
    "# 用训练好的模型进行预测并输出预测结果\n",
    "# 创建执行器\n",
    "infer_exe = fluid.Executor(place)    #创建推测用的executor\n",
    "\n",
    "inference_scope = fluid.core.Scope() #Scope指定作用域\n",
    "\n",
    "save_path = 'work/infer_model/'\n",
    "\n",
    "with fluid.scope_guard(inference_scope):#修改全局/默认作用域（scope）, 运行时中的所有变量都将分配给新的scope。\n",
    "\n",
    "# 从模型中获取预测程序、输入数据名称列表、分类器\n",
    "    [infer_program, feeded_var_names, target_var] = fluid.io.load_inference_model(dirname=save_path, executor=exe)\n",
    "\n",
    "    data = []\n",
    "    # 获取预测数据\n",
    "    data1 = get_data('在获得诺贝尔文学奖7年之后，莫言15日晚间在山西汾阳贾家庄如是说')\n",
    "    data2 = get_data('国际航协：2021年三季度全球航企亏损收窄')\n",
    "    data.append(data1)\n",
    "    data.append(data2)\n",
    "    # print(data)\n",
    "    # 获取每句话的单词数量\n",
    "    base_shape = [[len(c) for c in data]]\n",
    "\n",
    "    # 生成预测数据\n",
    "    tensor_words = fluid.create_lod_tensor(data, base_shape, place)#data是数据，base_shape用于数据的分割\n",
    "    # print(tensor_words)\n",
    "    # 执行预测\n",
    "    result = infer_exe.run(program=infer_program,\n",
    "                    feed={feeded_var_names[0]: tensor_words},\n",
    "                    fetch_list=target_var)\n",
    "    # 分类名称\n",
    "    names = [ '文化', '娱乐', '体育', '财经','房产', '汽车', '教育', '科技', '国际', '证券']\n",
    "    print(np.argsort(result))\n",
    "    # 获取结果概率最大的label\n",
    "    for i in range(len(data)):\n",
    "        lab = np.argsort(result)[0][i][-1]\n",
    "        print('预测结果标签为：%d， 名称为：%s， 概率为：%f' % (lab, names[lab], result[0][i][lab]))"
   ]
  }
 ],
 "metadata": {
  "interpreter": {
   "hash": "73fe03891eabd6446a090ee4c22d8dcac73542d36d6aee5d53443fd4b857a5ca"
  },
  "kernelspec": {
   "display_name": "Python 3",
   "language": "python",
   "name": "python3"
  },
  "language_info": {
   "codemirror_mode": {
    "name": "ipython",
    "version": 3
   },
   "file_extension": ".py",
   "mimetype": "text/x-python",
   "name": "python",
   "nbconvert_exporter": "python",
   "pygments_lexer": "ipython3",
   "version": "3.9.6"
  }
 },
 "nbformat": 4,
 "nbformat_minor": 1
}
