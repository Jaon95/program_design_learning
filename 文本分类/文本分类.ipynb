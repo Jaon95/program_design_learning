{
 "cells": [
  {
   "cell_type": "code",
   "execution_count": 4,
   "metadata": {},
   "outputs": [],
   "source": [
    "import os\n",
    "from multiprocessing import cpu_count\n",
    "import numpy as np\n",
    "import shutil\n",
    "import paddle\n",
    "import paddle.fluid as fluid"
   ]
  },
  {
   "cell_type": "code",
   "execution_count": 5,
   "metadata": {},
   "outputs": [
    {
     "name": "stdout",
     "output_type": "stream",
     "text": [
      "[['我', 1], ['是', 3], ['谁', 8]]\n",
      "{'我': 1, '是': 3, '谁': 8}\n",
      "{'我': 1, '是': 3, '谁': 8, '他': 4, '你': 2}\n"
     ]
    }
   ],
   "source": [
    "s = [[\"我\",1],[\"是\",3],[\"谁\",8]]\n",
    "print(s)\n",
    "d = dict(s)\n",
    "print(d)\n",
    "d['他'] = 5\n",
    "d1 = {\"你\":2,\"他\":4}\n",
    "d.update(d1) # 使用新字典里面的数据，更新原字典，若是原字典有的，则更新，若是没有的，则新增\n",
    "print(d)"
   ]
  },
  {
   "cell_type": "code",
   "execution_count": 6,
   "metadata": {},
   "outputs": [],
   "source": [
    "def create_data_list(data_root_path):\n",
    "    with open(data_root_path + 'test_list.txt', 'w') as f:\n",
    "        pass\n",
    "    with open(data_root_path + 'train_list.txt', 'w') as f:\n",
    "        pass\n",
    "\n",
    "    with open(os.path.join(data_root_path, 'dict_txt.txt'), 'r', encoding='utf-8') as f_data:\n",
    "        dict_txt = eval(f_data.readlines()[0]) # 将读取的数据（dictionary），\n",
    "                                               # 并通过eval函数转为python的字典对象，eval将内容作为python语句执行，并返回执行结果\n",
    "\n",
    "    with open(os.path.join(data_root_path, 'news_classify_data.txt'), 'r', encoding='utf-8') as f_data:\n",
    "        lines = f_data.readlines() \n",
    "        i = 0\n",
    "        for line in lines:\n",
    "            title = line.split('_!_')[-1].replace('\\n', '') # 使用 _!_ 分割字符串，并将末尾的换行符进行替换\n",
    "            l = line.split('_!_')[1] # 获数据的类型\n",
    "            labs = \"\"\n",
    "            if i % 10 == 0: # 如果是当前数据的条数是10的整数倍，将其添加到测试数据集合\n",
    "                with open(os.path.join(data_root_path, 'test_list.txt'), 'a', encoding='utf-8') as f_test:# join函数会根据当前操作系统的类型，自动生成文件链接的字符串\n",
    "                    # 打开测试数据\n",
    "                    for s in title:\n",
    "                        lab = str(dict_txt[s]) # 获取标题的编码\n",
    "                        labs = labs + lab + ',' # 将编码添加到编码的字符串中\n",
    "                    labs = labs[:-1]\n",
    "                    labs = labs + '\\t' + l + '\\n' # 编码\\t类型\\n\n",
    "                    print(title + \"\\n\" + labs)\n",
    "                    f_test.write(labs)\n",
    "            else:\n",
    "                with open(os.path.join(data_root_path, 'train_list.txt'), 'a', encoding='utf-8') as f_train:\n",
    "                    for s in title:\n",
    "                        lab = str(dict_txt[s])\n",
    "                        labs = labs + lab + ','\n",
    "                    labs = labs[:-1]\n",
    "                    labs = labs + '\\t' + l + '\\n' # 编码\\t类型\\n\n",
    "                    f_train.write(labs)\n",
    "            i += 1\n",
    "    print(\"数据列表生成完成！\")\n",
    "\n",
    "\n",
    "# 把下载得数据生成一个字典\n",
    "def create_dict(data_path, dict_path):\n",
    "    dict_set = set()\n",
    "    # 读取已经下载得数据\n",
    "    with open(data_path, 'r', encoding='utf-8') as f:\n",
    "        lines = f.readlines()\n",
    "    # 把数据生成一个集合\n",
    "    for line in lines:\n",
    "        title = line.split('_!_')[-1].replace('\\n', '') # 取分割后的数组的最后一个\n",
    "        #print(title)\n",
    "        for s in title:\n",
    "            dict_set.add(s) # 集合中的元素是不能重复的\n",
    "    # 把集合转换成字典，一个字对应一个数字\n",
    "    dict_list = []\n",
    "    i = 0\n",
    "    for s in dict_set:\n",
    "        dict_list.append([s, i])\n",
    "        #print([s,i])\n",
    "        i += 1\n",
    "    # 添加未知字符\n",
    "    dict_txt = dict(dict_list)\n",
    "    end_dict = {\"<unk>\": i}\n",
    "    dict_txt.update(end_dict)\n",
    "    # 把这些字典保存到本地中\n",
    "    with open(dict_path, 'w', encoding='utf-8') as f:\n",
    "        f.write(str(dict_txt))\n",
    "\n",
    "    print(\"数据字典生成完成！\")\n",
    "\n",
    "\n",
    "# 获取字典的长度\n",
    "def get_dict_len(dict_path):\n",
    "    with open(dict_path, 'r', encoding='utf-8') as f:\n",
    "        line = eval(f.readlines()[0])\n",
    "    print(type(line))\n",
    "    return len(line.keys())\n"
   ]
  },
  {
   "cell_type": "code",
   "execution_count": null,
   "metadata": {},
   "outputs": [],
   "source": []
  }
 ],
 "metadata": {
  "interpreter": {
   "hash": "73fe03891eabd6446a090ee4c22d8dcac73542d36d6aee5d53443fd4b857a5ca"
  },
  "kernelspec": {
   "display_name": "Python 3.9.6 64-bit ('.venv': venv)",
   "language": "python",
   "name": "python3"
  },
  "language_info": {
   "codemirror_mode": {
    "name": "ipython",
    "version": 3
   },
   "file_extension": ".py",
   "mimetype": "text/x-python",
   "name": "python",
   "nbconvert_exporter": "python",
   "pygments_lexer": "ipython3",
   "version": "3.9.6"
  },
  "orig_nbformat": 4
 },
 "nbformat": 4,
 "nbformat_minor": 2
}
